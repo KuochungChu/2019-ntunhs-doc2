{
 "cells": [
  {
   "cell_type": "code",
   "execution_count": 1,
   "metadata": {},
   "outputs": [
    {
     "name": "stderr",
     "output_type": "stream",
     "text": [
      "Using TensorFlow backend.\n"
     ]
    }
   ],
   "source": [
    "from keras.models import Sequential\n",
    "from keras.layers import Dense, Flatten, Convolution2D, MaxPooling2D, Dropout\n",
    "from keras.optimizers import RMSprop\n",
    "from keras.datasets import mnist\n",
    "from keras.utils import np_utils\n",
    "from keras import initializers\n",
    "from keras import backend as K"
   ]
  },
  {
   "cell_type": "code",
   "execution_count": 2,
   "metadata": {},
   "outputs": [],
   "source": [
    "batch_size = 128\n",
    "nb_classes = 10\n",
    "nb_epoch = 100\n",
    "\n",
    "img_rows, img_cols = 28, 28         # input image dimensions\n",
    "pool_size = (2, 2)                  # size of pooling area for max pooling\n",
    "prob_drop_conv = 0.2                # drop probability for dropout @ conv layer\n",
    "prob_drop_hidden = 0.5              # drop probability for dropout @ fc layer"
   ]
  },
  {
   "cell_type": "code",
   "execution_count": 3,
   "metadata": {},
   "outputs": [],
   "source": [
    "def init_weights(shape, name=None):\n",
    "    return initializers.VarianceScaling(shape, scale=0.01, name=name)\n",
    "    #return initializers.VarianceScaling(shape, scale=1.0, mode='fan_in', distribution='normal', seed=None)\n",
    "\n",
    "#初始化參數(可自行訂定義)\n",
    "#from keras import backend as K\n",
    "#def init_weights(shape, dtype=None):\n",
    "    #return K.random_normal(shape, dtype=dtype)"
   ]
  },
  {
   "cell_type": "code",
   "execution_count": 4,
   "metadata": {},
   "outputs": [
    {
     "name": "stdout",
     "output_type": "stream",
     "text": [
      "X_train original shape: (60000, 28, 28)\n"
     ]
    }
   ],
   "source": [
    "# Load MNIST dataset\n",
    "(X_train, y_train), (X_test, y_test) = mnist.load_data()\n",
    "print('X_train original shape:', X_train.shape)\n",
    "\n",
    "if K.image_dim_ordering() == 'th':\n",
    "    # For Theano backend\n",
    "    X_train = X_train.reshape(X_train.shape[0], 1, img_rows, img_cols)\n",
    "    X_test = X_test.reshape(X_test.shape[0], 1, img_rows, img_cols)\n",
    "    input_shape = (1, img_rows, img_cols)\n",
    "else:\n",
    "    # For TensorFlow backend\n",
    "    X_train = X_train.reshape(X_train.shape[0], img_rows, img_cols, 1)\n",
    "    X_test = X_test.reshape(X_test.shape[0], img_rows, img_cols, 1)\n",
    "    input_shape = (img_rows, img_cols, 1)"
   ]
  },
  {
   "cell_type": "code",
   "execution_count": 5,
   "metadata": {},
   "outputs": [
    {
     "name": "stdout",
     "output_type": "stream",
     "text": [
      "X_train shape: (60000, 28, 28, 1)\n",
      "60000 train samples\n",
      "10000 test samples\n"
     ]
    }
   ],
   "source": [
    "X_train = X_train.astype('float32') / 255.\n",
    "X_test = X_test.astype('float32') / 255.\n",
    "Y_train = np_utils.to_categorical(y_train, nb_classes)\n",
    "Y_test = np_utils.to_categorical(y_test, nb_classes)\n",
    "\n",
    "print('X_train shape:', X_train.shape)\n",
    "print(X_train.shape[0], 'train samples')\n",
    "print(X_test.shape[0], 'test samples')"
   ]
  },
  {
   "cell_type": "code",
   "execution_count": 6,
   "metadata": {},
   "outputs": [
    {
     "name": "stdout",
     "output_type": "stream",
     "text": [
      "WARNING:tensorflow:From C:\\Users\\gpu\\Anaconda3\\envs\\keras\\lib\\site-packages\\tensorflow\\python\\framework\\op_def_library.py:263: colocate_with (from tensorflow.python.framework.ops) is deprecated and will be removed in a future version.\n",
      "Instructions for updating:\n",
      "Colocations handled automatically by placer.\n",
      "WARNING:tensorflow:From C:\\Users\\gpu\\Anaconda3\\envs\\keras\\lib\\site-packages\\keras\\backend\\tensorflow_backend.py:3445: calling dropout (from tensorflow.python.ops.nn_ops) with keep_prob is deprecated and will be removed in a future version.\n",
      "Instructions for updating:\n",
      "Please use `rate` instead of `keep_prob`. Rate should be set to `rate = 1 - keep_prob`.\n"
     ]
    },
    {
     "name": "stderr",
     "output_type": "stream",
     "text": [
      "C:\\Users\\gpu\\Anaconda3\\envs\\keras\\lib\\site-packages\\ipykernel_launcher.py:8: UserWarning: Update your `Conv2D` call to the Keras 2 API: `Conv2D(32, (3, 3), activation=\"relu\", input_shape=(28, 28, 1..., padding=\"same\", kernel_initializer=\"normal\")`\n",
      "  \n",
      "C:\\Users\\gpu\\Anaconda3\\envs\\keras\\lib\\site-packages\\ipykernel_launcher.py:9: UserWarning: Update your `MaxPooling2D` call to the Keras 2 API: `MaxPooling2D(pool_size=(2, 2), strides=(2, 2), padding=\"same\")`\n",
      "  if __name__ == '__main__':\n",
      "C:\\Users\\gpu\\Anaconda3\\envs\\keras\\lib\\site-packages\\ipykernel_launcher.py:13: UserWarning: Update your `Conv2D` call to the Keras 2 API: `Conv2D(64, (3, 3), activation=\"relu\", padding=\"same\", kernel_initializer=\"normal\")`\n",
      "  del sys.path[0]\n",
      "C:\\Users\\gpu\\Anaconda3\\envs\\keras\\lib\\site-packages\\ipykernel_launcher.py:14: UserWarning: Update your `MaxPooling2D` call to the Keras 2 API: `MaxPooling2D(pool_size=(2, 2), strides=(2, 2), padding=\"same\")`\n",
      "  \n",
      "C:\\Users\\gpu\\Anaconda3\\envs\\keras\\lib\\site-packages\\ipykernel_launcher.py:18: UserWarning: Update your `Conv2D` call to the Keras 2 API: `Conv2D(128, (3, 3), activation=\"relu\", padding=\"same\", kernel_initializer=\"normal\")`\n",
      "C:\\Users\\gpu\\Anaconda3\\envs\\keras\\lib\\site-packages\\ipykernel_launcher.py:19: UserWarning: Update your `MaxPooling2D` call to the Keras 2 API: `MaxPooling2D(pool_size=(2, 2), strides=(2, 2), padding=\"same\")`\n",
      "C:\\Users\\gpu\\Anaconda3\\envs\\keras\\lib\\site-packages\\ipykernel_launcher.py:24: UserWarning: Update your `Dense` call to the Keras 2 API: `Dense(625, activation=\"relu\", kernel_initializer=\"normal\")`\n",
      "C:\\Users\\gpu\\Anaconda3\\envs\\keras\\lib\\site-packages\\ipykernel_launcher.py:28: UserWarning: Update your `Dense` call to the Keras 2 API: `Dense(10, activation=\"softmax\", kernel_initializer=\"normal\")`\n"
     ]
    },
    {
     "name": "stdout",
     "output_type": "stream",
     "text": [
      "_________________________________________________________________\n",
      "Layer (type)                 Output Shape              Param #   \n",
      "=================================================================\n",
      "conv2d_1 (Conv2D)            (None, 28, 28, 32)        320       \n",
      "_________________________________________________________________\n",
      "max_pooling2d_1 (MaxPooling2 (None, 14, 14, 32)        0         \n",
      "_________________________________________________________________\n",
      "dropout_1 (Dropout)          (None, 14, 14, 32)        0         \n",
      "_________________________________________________________________\n",
      "conv2d_2 (Conv2D)            (None, 14, 14, 64)        18496     \n",
      "_________________________________________________________________\n",
      "max_pooling2d_2 (MaxPooling2 (None, 7, 7, 64)          0         \n",
      "_________________________________________________________________\n",
      "dropout_2 (Dropout)          (None, 7, 7, 64)          0         \n",
      "_________________________________________________________________\n",
      "conv2d_3 (Conv2D)            (None, 7, 7, 128)         73856     \n",
      "_________________________________________________________________\n",
      "max_pooling2d_3 (MaxPooling2 (None, 4, 4, 128)         0         \n",
      "_________________________________________________________________\n",
      "flatten_1 (Flatten)          (None, 2048)              0         \n",
      "_________________________________________________________________\n",
      "dropout_3 (Dropout)          (None, 2048)              0         \n",
      "_________________________________________________________________\n",
      "dense_1 (Dense)              (None, 625)               1280625   \n",
      "_________________________________________________________________\n",
      "dropout_4 (Dropout)          (None, 625)               0         \n",
      "_________________________________________________________________\n",
      "dense_2 (Dense)              (None, 10)                6260      \n",
      "=================================================================\n",
      "Total params: 1,379,557\n",
      "Trainable params: 1,379,557\n",
      "Non-trainable params: 0\n",
      "_________________________________________________________________\n"
     ]
    }
   ],
   "source": [
    "# Convolutional model\n",
    "model = Sequential()\n",
    "\n",
    "#bugs need to be fixed (初始化參數)\n",
    "\n",
    "# conv1 layer\n",
    "#model.add(Convolution2D(32, 3, 3, border_mode='same', activation='relu', input_shape=input_shape, init=init_weights))\n",
    "model.add(Convolution2D(32, 3, 3, border_mode='same', activation='relu', input_shape=input_shape, init='normal'))\n",
    "model.add(MaxPooling2D(pool_size=pool_size, strides=(2,2), border_mode='same'))\n",
    "model.add(Dropout(prob_drop_conv))\n",
    "\n",
    "# conv2 layer\n",
    "model.add(Convolution2D(64, 3, 3, border_mode='same', activation='relu', init='normal'))\n",
    "model.add(MaxPooling2D(pool_size=pool_size, strides=(2,2), border_mode='same'))\n",
    "model.add(Dropout(prob_drop_conv))\n",
    "\n",
    "# conv3 layer\n",
    "model.add(Convolution2D(128, 3, 3, border_mode='same', activation='relu', init='normal'))\n",
    "model.add(MaxPooling2D(pool_size=pool_size, strides=(2,2), border_mode='same'))\n",
    "model.add(Flatten())\n",
    "model.add(Dropout(prob_drop_conv))\n",
    "\n",
    "# fc1 layer\n",
    "model.add(Dense(625, activation='relu', init='normal'))\n",
    "model.add(Dropout(prob_drop_hidden))\n",
    "\n",
    "# fc2 layer\n",
    "model.add(Dense(10, activation='softmax', init='normal'))\n",
    "\n",
    "opt = RMSprop(lr=0.001, rho=0.9)\n",
    "model.compile(optimizer=opt, loss='categorical_crossentropy', metrics=['accuracy'])\n",
    "model.summary()"
   ]
  },
  {
   "cell_type": "code",
   "execution_count": 7,
   "metadata": {},
   "outputs": [
    {
     "name": "stdout",
     "output_type": "stream",
     "text": [
      "WARNING:tensorflow:From C:\\Users\\gpu\\Anaconda3\\envs\\keras\\lib\\site-packages\\tensorflow\\python\\ops\\math_ops.py:3066: to_int32 (from tensorflow.python.ops.math_ops) is deprecated and will be removed in a future version.\n",
      "Instructions for updating:\n",
      "Use tf.cast instead.\n"
     ]
    },
    {
     "name": "stderr",
     "output_type": "stream",
     "text": [
      "C:\\Users\\gpu\\Anaconda3\\envs\\keras\\lib\\site-packages\\ipykernel_launcher.py:2: UserWarning: The `nb_epoch` argument in `fit` has been renamed `epochs`.\n",
      "  \n"
     ]
    },
    {
     "name": "stdout",
     "output_type": "stream",
     "text": [
      "Epoch 1/100\n",
      "60000/60000 [==============================] - 13s 218us/step - loss: 0.2576 - acc: 0.9164\n",
      "Epoch 2/100\n",
      "60000/60000 [==============================] - 10s 175us/step - loss: 0.0721 - acc: 0.9778\n",
      "Epoch 3/100\n",
      "60000/60000 [==============================] - 10s 173us/step - loss: 0.0531 - acc: 0.9838\n",
      "Epoch 4/100\n",
      "60000/60000 [==============================] - 10s 172us/step - loss: 0.0443 - acc: 0.9863\n",
      "Epoch 5/100\n",
      "60000/60000 [==============================] - 10s 173us/step - loss: 0.0384 - acc: 0.9879\n",
      "Epoch 6/100\n",
      "60000/60000 [==============================] - 10s 174us/step - loss: 0.0369 - acc: 0.9889\n",
      "Epoch 7/100\n",
      "60000/60000 [==============================] - 10s 172us/step - loss: 0.0342 - acc: 0.9897\n",
      "Epoch 8/100\n",
      "60000/60000 [==============================] - 10s 174us/step - loss: 0.0320 - acc: 0.9905\n",
      "Epoch 9/100\n",
      "60000/60000 [==============================] - 11s 178us/step - loss: 0.0287 - acc: 0.9912\n",
      "Epoch 10/100\n",
      "60000/60000 [==============================] - 10s 173us/step - loss: 0.0296 - acc: 0.9912\n",
      "Epoch 11/100\n",
      "60000/60000 [==============================] - 10s 175us/step - loss: 0.0257 - acc: 0.9918\n",
      "Epoch 12/100\n",
      "60000/60000 [==============================] - 10s 174us/step - loss: 0.0263 - acc: 0.9926\n",
      "Epoch 13/100\n",
      "60000/60000 [==============================] - 10s 174us/step - loss: 0.0257 - acc: 0.9925\n",
      "Epoch 14/100\n",
      "60000/60000 [==============================] - 11s 175us/step - loss: 0.0249 - acc: 0.9923\n",
      "Epoch 15/100\n",
      "60000/60000 [==============================] - 11s 179us/step - loss: 0.0242 - acc: 0.9927\n",
      "Epoch 16/100\n",
      "60000/60000 [==============================] - 11s 183us/step - loss: 0.0241 - acc: 0.9931\n",
      "Epoch 17/100\n",
      "60000/60000 [==============================] - 10s 175us/step - loss: 0.0258 - acc: 0.9928\n",
      "Epoch 18/100\n",
      "60000/60000 [==============================] - 11s 176us/step - loss: 0.0240 - acc: 0.9930\n",
      "Epoch 19/100\n",
      "60000/60000 [==============================] - 10s 173us/step - loss: 0.0246 - acc: 0.9925\n",
      "Epoch 20/100\n",
      "60000/60000 [==============================] - 11s 178us/step - loss: 0.0251 - acc: 0.9930\n",
      "Epoch 21/100\n",
      "60000/60000 [==============================] - 10s 175us/step - loss: 0.0250 - acc: 0.9935\n",
      "Epoch 22/100\n",
      "60000/60000 [==============================] - 10s 173us/step - loss: 0.0252 - acc: 0.9927\n",
      "Epoch 23/100\n",
      "60000/60000 [==============================] - 10s 175us/step - loss: 0.0274 - acc: 0.9927\n",
      "Epoch 24/100\n",
      "60000/60000 [==============================] - 11s 175us/step - loss: 0.0267 - acc: 0.9931\n",
      "Epoch 25/100\n",
      "60000/60000 [==============================] - 10s 173us/step - loss: 0.0249 - acc: 0.9931\n",
      "Epoch 26/100\n",
      "60000/60000 [==============================] - 11s 176us/step - loss: 0.0273 - acc: 0.9929\n",
      "Epoch 27/100\n",
      "60000/60000 [==============================] - 11s 175us/step - loss: 0.0274 - acc: 0.9925\n",
      "Epoch 28/100\n",
      "60000/60000 [==============================] - 10s 174us/step - loss: 0.0293 - acc: 0.9924\n",
      "Epoch 29/100\n",
      "60000/60000 [==============================] - 11s 176us/step - loss: 0.0298 - acc: 0.9921\n",
      "Epoch 30/100\n",
      "60000/60000 [==============================] - 10s 173us/step - loss: 0.0281 - acc: 0.9924\n",
      "Epoch 31/100\n",
      "60000/60000 [==============================] - 11s 175us/step - loss: 0.0287 - acc: 0.9924\n",
      "Epoch 32/100\n",
      "60000/60000 [==============================] - 11s 178us/step - loss: 0.0312 - acc: 0.9919\n",
      "Epoch 33/100\n",
      "60000/60000 [==============================] - 10s 174us/step - loss: 0.0291 - acc: 0.9922\n",
      "Epoch 34/100\n",
      "60000/60000 [==============================] - 11s 175us/step - loss: 0.0328 - acc: 0.9920\n",
      "Epoch 35/100\n",
      "60000/60000 [==============================] - 10s 175us/step - loss: 0.0280 - acc: 0.9924\n",
      "Epoch 36/100\n",
      "60000/60000 [==============================] - 10s 173us/step - loss: 0.0312 - acc: 0.9920\n",
      "Epoch 37/100\n",
      "60000/60000 [==============================] - 11s 176us/step - loss: 0.0302 - acc: 0.9923\n",
      "Epoch 38/100\n",
      "60000/60000 [==============================] - 11s 176us/step - loss: 0.0336 - acc: 0.9917\n",
      "Epoch 39/100\n",
      "60000/60000 [==============================] - 10s 172us/step - loss: 0.0300 - acc: 0.9917\n",
      "Epoch 40/100\n",
      "60000/60000 [==============================] - 11s 182us/step - loss: 0.0366 - acc: 0.9908\n",
      "Epoch 41/100\n",
      "60000/60000 [==============================] - 11s 183us/step - loss: 0.0331 - acc: 0.9913\n",
      "Epoch 42/100\n",
      "60000/60000 [==============================] - 11s 178us/step - loss: 0.0352 - acc: 0.9917\n",
      "Epoch 43/100\n",
      "60000/60000 [==============================] - 11s 187us/step - loss: 0.0338 - acc: 0.9911\n",
      "Epoch 44/100\n",
      "60000/60000 [==============================] - 11s 185us/step - loss: 0.0354 - acc: 0.9907\n",
      "Epoch 45/100\n",
      "60000/60000 [==============================] - 11s 179us/step - loss: 0.0332 - acc: 0.9917\n",
      "Epoch 46/100\n",
      "60000/60000 [==============================] - 11s 181us/step - loss: 0.0351 - acc: 0.9913\n",
      "Epoch 47/100\n",
      "60000/60000 [==============================] - 11s 183us/step - loss: 0.0363 - acc: 0.9910\n",
      "Epoch 48/100\n",
      "60000/60000 [==============================] - 11s 182us/step - loss: 0.0402 - acc: 0.9901\n",
      "Epoch 49/100\n",
      "60000/60000 [==============================] - 11s 180us/step - loss: 0.0372 - acc: 0.9911\n",
      "Epoch 50/100\n",
      "60000/60000 [==============================] - 11s 183us/step - loss: 0.0376 - acc: 0.9907\n",
      "Epoch 51/100\n",
      "60000/60000 [==============================] - 11s 182us/step - loss: 0.0370 - acc: 0.9908\n",
      "Epoch 52/100\n",
      "60000/60000 [==============================] - 11s 181us/step - loss: 0.0365 - acc: 0.9909\n",
      "Epoch 53/100\n",
      "60000/60000 [==============================] - 11s 183us/step - loss: 0.0401 - acc: 0.9904\n",
      "Epoch 54/100\n",
      "60000/60000 [==============================] - 11s 187us/step - loss: 0.0441 - acc: 0.9901\n",
      "Epoch 55/100\n",
      "60000/60000 [==============================] - 11s 180us/step - loss: 0.0403 - acc: 0.9902\n",
      "Epoch 56/100\n",
      "60000/60000 [==============================] - 11s 183us/step - loss: 0.0401 - acc: 0.9902\n",
      "Epoch 57/100\n",
      "60000/60000 [==============================] - 11s 181us/step - loss: 0.0407 - acc: 0.9902\n",
      "Epoch 58/100\n",
      "60000/60000 [==============================] - 11s 179us/step - loss: 0.0409 - acc: 0.9902\n",
      "Epoch 59/100\n",
      "60000/60000 [==============================] - 11s 182us/step - loss: 0.0389 - acc: 0.9904\n",
      "Epoch 60/100\n",
      "60000/60000 [==============================] - 11s 183us/step - loss: 0.0414 - acc: 0.9900\n",
      "Epoch 61/100\n",
      "60000/60000 [==============================] - 11s 180us/step - loss: 0.0457 - acc: 0.9892\n",
      "Epoch 62/100\n",
      "60000/60000 [==============================] - 11s 181us/step - loss: 0.0413 - acc: 0.9905\n",
      "Epoch 63/100\n",
      "60000/60000 [==============================] - 11s 182us/step - loss: 0.0444 - acc: 0.9892\n",
      "Epoch 64/100\n",
      "60000/60000 [==============================] - 11s 179us/step - loss: 0.0434 - acc: 0.9899\n",
      "Epoch 65/100\n",
      "60000/60000 [==============================] - 11s 186us/step - loss: 0.0455 - acc: 0.9887\n",
      "Epoch 66/100\n",
      "60000/60000 [==============================] - 11s 183us/step - loss: 0.0441 - acc: 0.9896\n",
      "Epoch 67/100\n",
      "60000/60000 [==============================] - 11s 180us/step - loss: 0.0445 - acc: 0.9901\n",
      "Epoch 68/100\n",
      "60000/60000 [==============================] - 11s 180us/step - loss: 0.0487 - acc: 0.9887\n",
      "Epoch 69/100\n",
      "60000/60000 [==============================] - 12s 194us/step - loss: 0.0445 - acc: 0.9890\n",
      "Epoch 70/100\n",
      "60000/60000 [==============================] - 11s 186us/step - loss: 0.0450 - acc: 0.9896\n",
      "Epoch 71/100\n",
      "60000/60000 [==============================] - 11s 180us/step - loss: 0.0482 - acc: 0.9893\n",
      "Epoch 72/100\n",
      "60000/60000 [==============================] - 11s 184us/step - loss: 0.0459 - acc: 0.9887\n",
      "Epoch 73/100\n",
      "60000/60000 [==============================] - 11s 182us/step - loss: 0.0462 - acc: 0.9886\n",
      "Epoch 74/100\n",
      "60000/60000 [==============================] - 11s 179us/step - loss: 0.0471 - acc: 0.9888\n",
      "Epoch 75/100\n",
      "60000/60000 [==============================] - 11s 182us/step - loss: 0.0459 - acc: 0.9893\n",
      "Epoch 76/100\n",
      "60000/60000 [==============================] - 11s 187us/step - loss: 0.0443 - acc: 0.9890\n",
      "Epoch 77/100\n",
      "60000/60000 [==============================] - 11s 179us/step - loss: 0.0470 - acc: 0.9889\n",
      "Epoch 78/100\n",
      "60000/60000 [==============================] - 11s 185us/step - loss: 0.0504 - acc: 0.9883\n",
      "Epoch 79/100\n"
     ]
    },
    {
     "name": "stdout",
     "output_type": "stream",
     "text": [
      "60000/60000 [==============================] - 11s 176us/step - loss: 0.0478 - acc: 0.9888\n",
      "Epoch 80/100\n",
      "60000/60000 [==============================] - 10s 174us/step - loss: 0.0476 - acc: 0.9887\n",
      "Epoch 81/100\n",
      "60000/60000 [==============================] - 11s 175us/step - loss: 0.0501 - acc: 0.9884\n",
      "Epoch 82/100\n",
      "60000/60000 [==============================] - 11s 176us/step - loss: 0.0537 - acc: 0.9876\n",
      "Epoch 83/100\n",
      "60000/60000 [==============================] - 10s 173us/step - loss: 0.0476 - acc: 0.9891\n",
      "Epoch 84/100\n",
      "60000/60000 [==============================] - 11s 176us/step - loss: 0.0487 - acc: 0.9888\n",
      "Epoch 85/100\n",
      "60000/60000 [==============================] - 10s 174us/step - loss: 0.0592 - acc: 0.9877\n",
      "Epoch 86/100\n",
      "60000/60000 [==============================] - 11s 180us/step - loss: 0.0513 - acc: 0.9890\n",
      "Epoch 87/100\n",
      "60000/60000 [==============================] - 11s 185us/step - loss: 0.0518 - acc: 0.9881\n",
      "Epoch 88/100\n",
      "60000/60000 [==============================] - 11s 182us/step - loss: 0.0524 - acc: 0.9888\n",
      "Epoch 89/100\n",
      "60000/60000 [==============================] - 11s 177us/step - loss: 0.0489 - acc: 0.9886\n",
      "Epoch 90/100\n",
      "60000/60000 [==============================] - 11s 181us/step - loss: 0.0518 - acc: 0.9886\n",
      "Epoch 91/100\n",
      "60000/60000 [==============================] - 11s 180us/step - loss: 0.0504 - acc: 0.9887\n",
      "Epoch 92/100\n",
      "60000/60000 [==============================] - 11s 178us/step - loss: 0.0506 - acc: 0.9884\n",
      "Epoch 93/100\n",
      "60000/60000 [==============================] - 11s 180us/step - loss: 0.0549 - acc: 0.9876\n",
      "Epoch 94/100\n",
      "60000/60000 [==============================] - 11s 181us/step - loss: 0.0576 - acc: 0.9882\n",
      "Epoch 95/100\n",
      "60000/60000 [==============================] - 11s 178us/step - loss: 0.0541 - acc: 0.9879\n",
      "Epoch 96/100\n",
      "60000/60000 [==============================] - 11s 180us/step - loss: 0.0545 - acc: 0.9886\n",
      "Epoch 97/100\n",
      "60000/60000 [==============================] - 11s 180us/step - loss: 0.0584 - acc: 0.9878\n",
      "Epoch 98/100\n",
      "60000/60000 [==============================] - 11s 186us/step - loss: 0.0554 - acc: 0.9877\n",
      "Epoch 99/100\n",
      "60000/60000 [==============================] - 11s 187us/step - loss: 0.0548 - acc: 0.9871\n",
      "Epoch 100/100\n",
      "60000/60000 [==============================] - 11s 185us/step - loss: 0.0597 - acc: 0.9873\n"
     ]
    }
   ],
   "source": [
    "# Train\n",
    "history = model.fit(X_train, Y_train, nb_epoch=nb_epoch, batch_size=batch_size, shuffle=True, verbose=1)"
   ]
  },
  {
   "cell_type": "code",
   "execution_count": 8,
   "metadata": {},
   "outputs": [
    {
     "name": "stdout",
     "output_type": "stream",
     "text": [
      "10000/10000 [==============================] - 1s 69us/step\n",
      "Summary: Loss over the test dataset: 0.04, Accuracy: 0.99\n"
     ]
    }
   ],
   "source": [
    "# Evaluate\n",
    "evaluation = model.evaluate(X_test, Y_test, batch_size=256, verbose=1)\n",
    "print('Summary: Loss over the test dataset: %.2f, Accuracy: %.2f' % (evaluation[0], evaluation[1]))"
   ]
  },
  {
   "cell_type": "code",
   "execution_count": null,
   "metadata": {},
   "outputs": [],
   "source": []
  }
 ],
 "metadata": {
  "kernelspec": {
   "display_name": "Python 3",
   "language": "python",
   "name": "python3"
  },
  "language_info": {
   "codemirror_mode": {
    "name": "ipython",
    "version": 3
   },
   "file_extension": ".py",
   "mimetype": "text/x-python",
   "name": "python",
   "nbconvert_exporter": "python",
   "pygments_lexer": "ipython3",
   "version": "3.7.1"
  }
 },
 "nbformat": 4,
 "nbformat_minor": 1
}
