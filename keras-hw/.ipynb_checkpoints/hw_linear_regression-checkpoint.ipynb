{
 "cells": [
  {
   "cell_type": "code",
   "execution_count": 1,
   "metadata": {},
   "outputs": [
    {
     "name": "stderr",
     "output_type": "stream",
     "text": [
      "Using TensorFlow backend.\n"
     ]
    }
   ],
   "source": [
    "from keras.models import Sequential\n",
    "from keras.layers import Dense\n",
    "import numpy as np\n",
    "import matplotlib.pyplot as plt\n",
    "%matplotlib inline"
   ]
  },
  {
   "cell_type": "code",
   "execution_count": 2,
   "metadata": {},
   "outputs": [],
   "source": [
    "# Generate dataset\n",
    "trX = np.linspace(-1, 1, 101)\n",
    "trY = 2 * trX + np.random.randn(*trX.shape) * 0.33 # create a y value which is approximately linear but with some random noise"
   ]
  },
  {
   "cell_type": "code",
   "execution_count": 3,
   "metadata": {},
   "outputs": [
    {
     "name": "stdout",
     "output_type": "stream",
     "text": [
      "WARNING:tensorflow:From C:\\Users\\gpu\\Anaconda3\\envs\\keras\\lib\\site-packages\\tensorflow\\python\\framework\\op_def_library.py:263: colocate_with (from tensorflow.python.framework.ops) is deprecated and will be removed in a future version.\n",
      "Instructions for updating:\n",
      "Colocations handled automatically by placer.\n"
     ]
    },
    {
     "name": "stderr",
     "output_type": "stream",
     "text": [
      "C:\\Users\\gpu\\Anaconda3\\envs\\keras\\lib\\site-packages\\ipykernel_launcher.py:3: UserWarning: Update your `Dense` call to the Keras 2 API: `Dense(input_dim=1, activation=\"linear\", units=1, kernel_initializer=\"uniform\")`\n",
      "  This is separate from the ipykernel package so we can avoid doing imports until\n"
     ]
    }
   ],
   "source": [
    "# Linear regression model\n",
    "model = Sequential()\n",
    "model.add(Dense(input_dim=1, output_dim=1, init='uniform', activation='linear'))\n",
    "model.compile(optimizer='sgd', loss='mse')"
   ]
  },
  {
   "cell_type": "code",
   "execution_count": 4,
   "metadata": {},
   "outputs": [
    {
     "name": "stdout",
     "output_type": "stream",
     "text": [
      "Linear regression model is initialized with weight w: 0.01, b: 0.00\n"
     ]
    }
   ],
   "source": [
    "# Print initial weights\n",
    "weights = model.layers[0].get_weights()\n",
    "w_init = weights[0][0][0]\n",
    "b_init = weights[1][0]\n",
    "print('Linear regression model is initialized with weight w: %.2f, b: %.2f' % (w_init, b_init))"
   ]
  },
  {
   "cell_type": "code",
   "execution_count": 5,
   "metadata": {},
   "outputs": [
    {
     "name": "stdout",
     "output_type": "stream",
     "text": [
      "WARNING:tensorflow:From C:\\Users\\gpu\\Anaconda3\\envs\\keras\\lib\\site-packages\\tensorflow\\python\\ops\\math_ops.py:3066: to_int32 (from tensorflow.python.ops.math_ops) is deprecated and will be removed in a future version.\n",
      "Instructions for updating:\n",
      "Use tf.cast instead.\n",
      "Epoch 1/100\n"
     ]
    },
    {
     "name": "stderr",
     "output_type": "stream",
     "text": [
      "C:\\Users\\gpu\\Anaconda3\\envs\\keras\\lib\\site-packages\\ipykernel_launcher.py:2: UserWarning: The `nb_epoch` argument in `fit` has been renamed `epochs`.\n",
      "  \n"
     ]
    },
    {
     "name": "stdout",
     "output_type": "stream",
     "text": [
      "101/101 [==============================] - 1s 9ms/step - loss: 1.4412\n",
      "Epoch 2/100\n",
      "101/101 [==============================] - 0s 178us/step - loss: 1.3554\n",
      "Epoch 3/100\n",
      "101/101 [==============================] - 0s 208us/step - loss: 1.2896\n",
      "Epoch 4/100\n",
      "101/101 [==============================] - 0s 248us/step - loss: 1.2212\n",
      "Epoch 5/100\n",
      "101/101 [==============================] - 0s 257us/step - loss: 1.1614\n",
      "Epoch 6/100\n",
      "101/101 [==============================] - 0s 238us/step - loss: 1.1064\n",
      "Epoch 7/100\n",
      "101/101 [==============================] - 0s 317us/step - loss: 1.0579\n",
      "Epoch 8/100\n",
      "101/101 [==============================] - 0s 198us/step - loss: 1.0077\n",
      "Epoch 9/100\n",
      "101/101 [==============================] - 0s 188us/step - loss: 0.9556\n",
      "Epoch 10/100\n",
      "101/101 [==============================] - 0s 267us/step - loss: 0.9080\n",
      "Epoch 11/100\n",
      "101/101 [==============================] - 0s 287us/step - loss: 0.8677\n",
      "Epoch 12/100\n",
      "101/101 [==============================] - 0s 228us/step - loss: 0.8301\n",
      "Epoch 13/100\n",
      "101/101 [==============================] - 0s 208us/step - loss: 0.7868\n",
      "Epoch 14/100\n",
      "101/101 [==============================] - 0s 287us/step - loss: 0.7525\n",
      "Epoch 15/100\n",
      "101/101 [==============================] - 0s 248us/step - loss: 0.7196\n",
      "Epoch 16/100\n",
      "101/101 [==============================] - 0s 238us/step - loss: 0.6841\n",
      "Epoch 17/100\n",
      "101/101 [==============================] - 0s 317us/step - loss: 0.6551\n",
      "Epoch 18/100\n",
      "101/101 [==============================] - 0s 198us/step - loss: 0.6293\n",
      "Epoch 19/100\n",
      "101/101 [==============================] - 0s 416us/step - loss: 0.5995\n",
      "Epoch 20/100\n",
      "101/101 [==============================] - 0s 327us/step - loss: 0.5708\n",
      "Epoch 21/100\n",
      "101/101 [==============================] - 0s 208us/step - loss: 0.5451\n",
      "Epoch 22/100\n",
      "101/101 [==============================] - 0s 297us/step - loss: 0.5191\n",
      "Epoch 23/100\n",
      "101/101 [==============================] - 0s 198us/step - loss: 0.4981\n",
      "Epoch 24/100\n",
      "101/101 [==============================] - 0s 277us/step - loss: 0.4757\n",
      "Epoch 25/100\n",
      "101/101 [==============================] - 0s 178us/step - loss: 0.4576\n",
      "Epoch 26/100\n",
      "101/101 [==============================] - 0s 158us/step - loss: 0.4398\n",
      "Epoch 27/100\n",
      "101/101 [==============================] - 0s 178us/step - loss: 0.4192\n",
      "Epoch 28/100\n",
      "101/101 [==============================] - 0s 248us/step - loss: 0.4021\n",
      "Epoch 29/100\n",
      "101/101 [==============================] - 0s 257us/step - loss: 0.3853\n",
      "Epoch 30/100\n",
      "101/101 [==============================] - 0s 178us/step - loss: 0.3695\n",
      "Epoch 31/100\n",
      "101/101 [==============================] - 0s 228us/step - loss: 0.3538\n",
      "Epoch 32/100\n",
      "101/101 [==============================] - 0s 168us/step - loss: 0.3404\n",
      "Epoch 33/100\n",
      "101/101 [==============================] - 0s 168us/step - loss: 0.3288\n",
      "Epoch 34/100\n",
      "101/101 [==============================] - 0s 218us/step - loss: 0.3174\n",
      "Epoch 35/100\n",
      "101/101 [==============================] - 0s 168us/step - loss: 0.3056\n",
      "Epoch 36/100\n",
      "101/101 [==============================] - 0s 188us/step - loss: 0.2952\n",
      "Epoch 37/100\n",
      "101/101 [==============================] - 0s 238us/step - loss: 0.2872\n",
      "Epoch 38/100\n",
      "101/101 [==============================] - 0s 198us/step - loss: 0.2777\n",
      "Epoch 39/100\n",
      "101/101 [==============================] - 0s 218us/step - loss: 0.2697\n",
      "Epoch 40/100\n",
      "101/101 [==============================] - 0s 198us/step - loss: 0.2594\n",
      "Epoch 41/100\n",
      "101/101 [==============================] - 0s 198us/step - loss: 0.2525\n",
      "Epoch 42/100\n",
      "101/101 [==============================] - 0s 198us/step - loss: 0.2445\n",
      "Epoch 43/100\n",
      "101/101 [==============================] - 0s 248us/step - loss: 0.2364\n",
      "Epoch 44/100\n",
      "101/101 [==============================] - 0s 188us/step - loss: 0.2290\n",
      "Epoch 45/100\n",
      "101/101 [==============================] - 0s 149us/step - loss: 0.2222\n",
      "Epoch 46/100\n",
      "101/101 [==============================] - 0s 198us/step - loss: 0.2148\n",
      "Epoch 47/100\n",
      "101/101 [==============================] - 0s 277us/step - loss: 0.2082\n",
      "Epoch 48/100\n",
      "101/101 [==============================] - 0s 218us/step - loss: 0.2016\n",
      "Epoch 49/100\n",
      "101/101 [==============================] - 0s 208us/step - loss: 0.1963\n",
      "Epoch 50/100\n",
      "101/101 [==============================] - 0s 149us/step - loss: 0.1905\n",
      "Epoch 51/100\n",
      "101/101 [==============================] - 0s 267us/step - loss: 0.1869\n",
      "Epoch 52/100\n",
      "101/101 [==============================] - 0s 238us/step - loss: 0.1833\n",
      "Epoch 53/100\n",
      "101/101 [==============================] - 0s 238us/step - loss: 0.1792\n",
      "Epoch 54/100\n",
      "101/101 [==============================] - 0s 257us/step - loss: 0.1749\n",
      "Epoch 55/100\n",
      "101/101 [==============================] - 0s 188us/step - loss: 0.1716\n",
      "Epoch 56/100\n",
      "101/101 [==============================] - 0s 257us/step - loss: 0.1676\n",
      "Epoch 57/100\n",
      "101/101 [==============================] - 0s 198us/step - loss: 0.1644\n",
      "Epoch 58/100\n",
      "101/101 [==============================] - 0s 248us/step - loss: 0.1611\n",
      "Epoch 59/100\n",
      "101/101 [==============================] - 0s 218us/step - loss: 0.1580\n",
      "Epoch 60/100\n",
      "101/101 [==============================] - 0s 188us/step - loss: 0.1552\n",
      "Epoch 61/100\n",
      "101/101 [==============================] - 0s 228us/step - loss: 0.1519\n",
      "Epoch 62/100\n",
      "101/101 [==============================] - 0s 218us/step - loss: 0.1492\n",
      "Epoch 63/100\n",
      "101/101 [==============================] - 0s 248us/step - loss: 0.1459\n",
      "Epoch 64/100\n",
      "101/101 [==============================] - 0s 218us/step - loss: 0.1436\n",
      "Epoch 65/100\n",
      "101/101 [==============================] - 0s 238us/step - loss: 0.1413\n",
      "Epoch 66/100\n",
      "101/101 [==============================] - 0s 208us/step - loss: 0.1395\n",
      "Epoch 67/100\n",
      "101/101 [==============================] - 0s 178us/step - loss: 0.1374\n",
      "Epoch 68/100\n",
      "101/101 [==============================] - 0s 257us/step - loss: 0.1354\n",
      "Epoch 69/100\n",
      "101/101 [==============================] - 0s 198us/step - loss: 0.1332\n",
      "Epoch 70/100\n",
      "101/101 [==============================] - 0s 257us/step - loss: 0.1319\n",
      "Epoch 71/100\n",
      "101/101 [==============================] - 0s 267us/step - loss: 0.1304\n",
      "Epoch 72/100\n",
      "101/101 [==============================] - 0s 257us/step - loss: 0.1289\n",
      "Epoch 73/100\n",
      "101/101 [==============================] - 0s 228us/step - loss: 0.1270\n",
      "Epoch 74/100\n",
      "101/101 [==============================] - 0s 257us/step - loss: 0.1258\n",
      "Epoch 75/100\n",
      "101/101 [==============================] - 0s 228us/step - loss: 0.1244\n",
      "Epoch 76/100\n",
      "101/101 [==============================] - 0s 228us/step - loss: 0.1235\n",
      "Epoch 77/100\n",
      "101/101 [==============================] - 0s 228us/step - loss: 0.1226\n",
      "Epoch 78/100\n",
      "101/101 [==============================] - 0s 277us/step - loss: 0.1216\n",
      "Epoch 79/100\n",
      "101/101 [==============================] - 0s 238us/step - loss: 0.1200\n",
      "Epoch 80/100\n",
      "101/101 [==============================] - 0s 238us/step - loss: 0.1192\n",
      "Epoch 81/100\n",
      "101/101 [==============================] - 0s 257us/step - loss: 0.1180\n",
      "Epoch 82/100\n",
      "101/101 [==============================] - 0s 178us/step - loss: 0.1169\n",
      "Epoch 83/100\n",
      "101/101 [==============================] - 0s 238us/step - loss: 0.1163\n",
      "Epoch 84/100\n",
      "101/101 [==============================] - 0s 188us/step - loss: 0.1154\n",
      "Epoch 85/100\n",
      "101/101 [==============================] - 0s 277us/step - loss: 0.1145\n",
      "Epoch 86/100\n",
      "101/101 [==============================] - 0s 188us/step - loss: 0.1139\n",
      "Epoch 87/100\n",
      "101/101 [==============================] - 0s 218us/step - loss: 0.1133\n",
      "Epoch 88/100\n",
      "101/101 [==============================] - 0s 257us/step - loss: 0.1127\n",
      "Epoch 89/100\n",
      "101/101 [==============================] - 0s 218us/step - loss: 0.1121\n",
      "Epoch 90/100\n",
      "101/101 [==============================] - 0s 228us/step - loss: 0.1116\n",
      "Epoch 91/100\n",
      "101/101 [==============================] - 0s 208us/step - loss: 0.1110\n",
      "Epoch 92/100\n",
      "101/101 [==============================] - 0s 277us/step - loss: 0.1102\n",
      "Epoch 93/100\n",
      "101/101 [==============================] - 0s 228us/step - loss: 0.1096\n",
      "Epoch 94/100\n",
      "101/101 [==============================] - 0s 228us/step - loss: 0.1088\n",
      "Epoch 95/100\n",
      "101/101 [==============================] - 0s 248us/step - loss: 0.1083\n",
      "Epoch 96/100\n",
      "101/101 [==============================] - 0s 327us/step - loss: 0.1079\n",
      "Epoch 97/100\n",
      "101/101 [==============================] - 0s 287us/step - loss: 0.1076\n",
      "Epoch 98/100\n",
      "101/101 [==============================] - 0s 297us/step - loss: 0.1073\n",
      "Epoch 99/100\n",
      "101/101 [==============================] - 0s 535us/step - loss: 0.1069\n",
      "Epoch 100/100\n",
      "101/101 [==============================] - 0s 455us/step - loss: 0.1066\n"
     ]
    },
    {
     "data": {
      "text/plain": [
       "<keras.callbacks.History at 0xd823e80>"
      ]
     },
     "execution_count": 5,
     "metadata": {},
     "output_type": "execute_result"
    }
   ],
   "source": [
    "# Train\n",
    "model.fit(trX, trY, nb_epoch=100, verbose=1)"
   ]
  },
  {
   "cell_type": "code",
   "execution_count": 6,
   "metadata": {},
   "outputs": [
    {
     "name": "stdout",
     "output_type": "stream",
     "text": [
      "Linear regression model is trained with weight w: 1.86, b: -0.00\n"
     ]
    }
   ],
   "source": [
    "# Print trained weights\n",
    "weights = model.layers[0].get_weights()\n",
    "w = weights[0][0][0]\n",
    "b = weights[1][0]\n",
    "print('Linear regression model is trained with weight w: %.2f, b: %.2f' % (w, b))"
   ]
  },
  {
   "cell_type": "code",
   "execution_count": 7,
   "metadata": {},
   "outputs": [
    {
     "data": {
      "image/png": "[encoded data removed]",
      "text/plain": [
       "<Figure size 432x288 with 1 Axes>"
      ]
     },
     "metadata": {
      "needs_background": "light"
     },
     "output_type": "display_data"
    }
   ],
   "source": [
    "plt.plot(trX, trY, label='data')\n",
    "plt.plot(trX, w_init*trX + b_init, label='init')\n",
    "plt.plot(trX, w*trX + b, label='prediction')\n",
    "plt.legend()\n",
    "plt.show()"
   ]
  },
  {
   "cell_type": "code",
   "execution_count": null,
   "metadata": {},
   "outputs": [],
   "source": []
  }
 ],
 "metadata": {
  "kernelspec": {
   "display_name": "Python 3",
   "language": "python",
   "name": "python3"
  },
  "language_info": {
   "codemirror_mode": {
    "name": "ipython",
    "version": 3
   },
   "file_extension": ".py",
   "mimetype": "text/x-python",
   "name": "python",
   "nbconvert_exporter": "python",
   "pygments_lexer": "ipython3",
   "version": "3.7.1"
  }
 },
 "nbformat": 4,
 "nbformat_minor": 1
}
