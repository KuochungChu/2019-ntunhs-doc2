{
 "cells": [
  {
   "cell_type": "code",
   "execution_count": 1,
   "metadata": {},
   "outputs": [
    {
     "name": "stderr",
     "output_type": "stream",
     "text": [
      "Using TensorFlow backend.\n"
     ]
    }
   ],
   "source": [
    "from keras.models import Sequential\n",
    "from keras.layers import Dense\n",
    "from keras.optimizers import SGD\n",
    "from keras.datasets import mnist\n",
    "from keras.utils import np_utils"
   ]
  },
  {
   "cell_type": "code",
   "execution_count": 2,
   "metadata": {},
   "outputs": [],
   "source": [
    "batch_size = 128\n",
    "nb_classes = 10\n",
    "nb_epoch = 100"
   ]
  },
  {
   "cell_type": "code",
   "execution_count": 3,
   "metadata": {},
   "outputs": [],
   "source": [
    "# Load MNIST dataset\n",
    "(X_train, y_train), (X_test, y_test) = mnist.load_data()\n",
    "X_train = X_train.reshape(60000, 784)\n",
    "X_test = X_test.reshape(10000, 784)\n",
    "X_train = X_train.astype('float32')\n",
    "X_test = X_test.astype('float32')\n",
    "X_train /= 255\n",
    "X_test /= 255\n",
    "Y_Train = np_utils.to_categorical(y_train, nb_classes)\n",
    "Y_Test = np_utils.to_categorical(y_test, nb_classes)"
   ]
  },
  {
   "cell_type": "code",
   "execution_count": 4,
   "metadata": {},
   "outputs": [
    {
     "name": "stdout",
     "output_type": "stream",
     "text": [
      "WARNING:tensorflow:From C:\\Users\\gpu\\Anaconda3\\envs\\keras\\lib\\site-packages\\tensorflow\\python\\framework\\op_def_library.py:263: colocate_with (from tensorflow.python.framework.ops) is deprecated and will be removed in a future version.\n",
      "Instructions for updating:\n",
      "Colocations handled automatically by placer.\n",
      "_________________________________________________________________\n",
      "Layer (type)                 Output Shape              Param #   \n",
      "=================================================================\n",
      "dense_1 (Dense)              (None, 10)                7850      \n",
      "=================================================================\n",
      "Total params: 7,850\n",
      "Trainable params: 7,850\n",
      "Non-trainable params: 0\n",
      "_________________________________________________________________\n"
     ]
    },
    {
     "name": "stderr",
     "output_type": "stream",
     "text": [
      "C:\\Users\\gpu\\Anaconda3\\envs\\keras\\lib\\site-packages\\ipykernel_launcher.py:3: UserWarning: Update your `Dense` call to the Keras 2 API: `Dense(input_shape=(784,), activation=\"softmax\", units=10, kernel_initializer=\"normal\")`\n",
      "  This is separate from the ipykernel package so we can avoid doing imports until\n"
     ]
    }
   ],
   "source": [
    "# Logistic regression model\n",
    "model = Sequential()\n",
    "model.add(Dense(output_dim=10, input_shape=(784,), init='normal', activation='softmax'))\n",
    "model.compile(optimizer=SGD(lr=0.05), loss='categorical_crossentropy', metrics=['accuracy'])\n",
    "model.summary()"
   ]
  },
  {
   "cell_type": "code",
   "execution_count": 5,
   "metadata": {},
   "outputs": [
    {
     "name": "stdout",
     "output_type": "stream",
     "text": [
      "WARNING:tensorflow:From C:\\Users\\gpu\\Anaconda3\\envs\\keras\\lib\\site-packages\\tensorflow\\python\\ops\\math_ops.py:3066: to_int32 (from tensorflow.python.ops.math_ops) is deprecated and will be removed in a future version.\n",
      "Instructions for updating:\n",
      "Use tf.cast instead.\n"
     ]
    },
    {
     "name": "stderr",
     "output_type": "stream",
     "text": [
      "C:\\Users\\gpu\\Anaconda3\\envs\\keras\\lib\\site-packages\\ipykernel_launcher.py:2: UserWarning: The `nb_epoch` argument in `fit` has been renamed `epochs`.\n",
      "  \n"
     ]
    },
    {
     "name": "stdout",
     "output_type": "stream",
     "text": [
      "Epoch 1/100\n",
      "60000/60000 [==============================] - 4s 63us/step - loss: 0.7270 - acc: 0.8230\n",
      "Epoch 2/100\n",
      "60000/60000 [==============================] - 2s 33us/step - loss: 0.4333 - acc: 0.8853\n",
      "Epoch 3/100\n",
      "60000/60000 [==============================] - 2s 34us/step - loss: 0.3864 - acc: 0.8952\n",
      "Epoch 4/100\n",
      "60000/60000 [==============================] - 2s 36us/step - loss: 0.3625 - acc: 0.9002\n",
      "Epoch 5/100\n",
      "60000/60000 [==============================] - 2s 37us/step - loss: 0.3477 - acc: 0.9038\n",
      "Epoch 6/100\n",
      "60000/60000 [==============================] - 2s 41us/step - loss: 0.3370 - acc: 0.9060\n",
      "Epoch 7/100\n",
      "60000/60000 [==============================] - 3s 52us/step - loss: 0.3287 - acc: 0.9086\n",
      "Epoch 8/100\n",
      "60000/60000 [==============================] - 3s 52us/step - loss: 0.3223 - acc: 0.9104\n",
      "Epoch 9/100\n",
      "60000/60000 [==============================] - 3s 45us/step - loss: 0.3170 - acc: 0.9113\n",
      "Epoch 10/100\n",
      "60000/60000 [==============================] - 3s 45us/step - loss: 0.3125 - acc: 0.9130\n",
      "Epoch 11/100\n",
      "60000/60000 [==============================] - 2s 33us/step - loss: 0.3088 - acc: 0.9142\n",
      "Epoch 12/100\n",
      "60000/60000 [==============================] - 3s 45us/step - loss: 0.3054 - acc: 0.9152\n",
      "Epoch 13/100\n",
      "60000/60000 [==============================] - 2s 36us/step - loss: 0.3025 - acc: 0.9159\n",
      "Epoch 14/100\n",
      "60000/60000 [==============================] - 2s 40us/step - loss: 0.2999 - acc: 0.9163\n",
      "Epoch 15/100\n",
      "60000/60000 [==============================] - 2s 41us/step - loss: 0.2975 - acc: 0.9169\n",
      "Epoch 16/100\n",
      "60000/60000 [==============================] - 40s 664us/step - loss: 0.2955 - acc: 0.9178\n",
      "Epoch 17/100\n",
      "60000/60000 [==============================] - 4s 60us/step - loss: 0.2936 - acc: 0.9180\n",
      "Epoch 18/100\n",
      "60000/60000 [==============================] - 6s 103us/step - loss: 0.2918 - acc: 0.9185\n",
      "Epoch 19/100\n",
      "60000/60000 [==============================] - 6s 108us/step - loss: 0.2902 - acc: 0.9191\n",
      "Epoch 20/100\n",
      "60000/60000 [==============================] - 5s 90us/step - loss: 0.2886 - acc: 0.9195\n",
      "Epoch 21/100\n",
      "60000/60000 [==============================] - 18s 302us/step - loss: 0.2872 - acc: 0.9200\n",
      "Epoch 22/100\n",
      "60000/60000 [==============================] - 7s 109us/step - loss: 0.2859 - acc: 0.9199\n",
      "Epoch 23/100\n",
      "60000/60000 [==============================] - 3s 53us/step - loss: 0.2847 - acc: 0.9207\n",
      "Epoch 24/100\n",
      "60000/60000 [==============================] - 2s 36us/step - loss: 0.2835 - acc: 0.9206\n",
      "Epoch 25/100\n",
      "60000/60000 [==============================] - 2s 34us/step - loss: 0.2825 - acc: 0.9209\n",
      "Epoch 26/100\n",
      "60000/60000 [==============================] - 2s 33us/step - loss: 0.2814 - acc: 0.9216\n",
      "Epoch 27/100\n",
      "60000/60000 [==============================] - 2s 37us/step - loss: 0.2804 - acc: 0.9219\n",
      "Epoch 28/100\n",
      "60000/60000 [==============================] - 2s 40us/step - loss: 0.2796 - acc: 0.9218\n",
      "Epoch 29/100\n",
      "60000/60000 [==============================] - 2s 35us/step - loss: 0.2787 - acc: 0.9222\n",
      "Epoch 30/100\n",
      "60000/60000 [==============================] - 2s 33us/step - loss: 0.2778 - acc: 0.9227\n",
      "Epoch 31/100\n",
      "60000/60000 [==============================] - 2s 36us/step - loss: 0.2769 - acc: 0.9231\n",
      "Epoch 32/100\n",
      "60000/60000 [==============================] - 2s 30us/step - loss: 0.2761 - acc: 0.9236\n",
      "Epoch 33/100\n",
      "60000/60000 [==============================] - 2s 31us/step - loss: 0.2756 - acc: 0.9231\n",
      "Epoch 34/100\n",
      "60000/60000 [==============================] - 2s 31us/step - loss: 0.2747 - acc: 0.9237\n",
      "Epoch 35/100\n",
      "60000/60000 [==============================] - 2s 30us/step - loss: 0.2739 - acc: 0.9240\n",
      "Epoch 36/100\n",
      "60000/60000 [==============================] - 2s 36us/step - loss: 0.2735 - acc: 0.9243\n",
      "Epoch 37/100\n",
      "60000/60000 [==============================] - ETA: 0s - loss: 0.2733 - acc: 0.924 - 2s 31us/step - loss: 0.2730 - acc: 0.9244\n",
      "Epoch 38/100\n",
      "60000/60000 [==============================] - 2s 31us/step - loss: 0.2723 - acc: 0.9245\n",
      "Epoch 39/100\n",
      "60000/60000 [==============================] - 2s 31us/step - loss: 0.2718 - acc: 0.9250\n",
      "Epoch 40/100\n",
      "60000/60000 [==============================] - 2s 30us/step - loss: 0.2712 - acc: 0.9254\n",
      "Epoch 41/100\n",
      "60000/60000 [==============================] - 2s 33us/step - loss: 0.2707 - acc: 0.9251\n",
      "Epoch 42/100\n",
      "60000/60000 [==============================] - 2s 32us/step - loss: 0.2701 - acc: 0.9253\n",
      "Epoch 43/100\n",
      "60000/60000 [==============================] - 2s 31us/step - loss: 0.2696 - acc: 0.9255\n",
      "Epoch 44/100\n",
      "60000/60000 [==============================] - 2s 32us/step - loss: 0.2691 - acc: 0.9252\n",
      "Epoch 45/100\n",
      "60000/60000 [==============================] - 2s 36us/step - loss: 0.2687 - acc: 0.9255\n",
      "Epoch 46/100\n",
      "60000/60000 [==============================] - 2s 31us/step - loss: 0.2682 - acc: 0.9254\n",
      "Epoch 47/100\n",
      "60000/60000 [==============================] - 2s 31us/step - loss: 0.2678 - acc: 0.9258\n",
      "Epoch 48/100\n",
      "60000/60000 [==============================] - 2s 31us/step - loss: 0.2673 - acc: 0.9262\n",
      "Epoch 49/100\n",
      "60000/60000 [==============================] - 2s 30us/step - loss: 0.2669 - acc: 0.9263\n",
      "Epoch 50/100\n",
      "60000/60000 [==============================] - 2s 31us/step - loss: 0.2665 - acc: 0.9264\n",
      "Epoch 51/100\n",
      "60000/60000 [==============================] - 2s 30us/step - loss: 0.2662 - acc: 0.9265\n",
      "Epoch 52/100\n",
      "60000/60000 [==============================] - 2s 31us/step - loss: 0.2658 - acc: 0.9264\n",
      "Epoch 53/100\n",
      "60000/60000 [==============================] - 2s 36us/step - loss: 0.2654 - acc: 0.9267\n",
      "Epoch 54/100\n",
      "60000/60000 [==============================] - 2s 31us/step - loss: 0.2650 - acc: 0.9269\n",
      "Epoch 55/100\n",
      "60000/60000 [==============================] - 2s 31us/step - loss: 0.2646 - acc: 0.9269\n",
      "Epoch 56/100\n",
      "60000/60000 [==============================] - 2s 30us/step - loss: 0.2643 - acc: 0.9271\n",
      "Epoch 57/100\n",
      "60000/60000 [==============================] - 2s 33us/step - loss: 0.2639 - acc: 0.9271\n",
      "Epoch 58/100\n",
      "60000/60000 [==============================] - 2s 31us/step - loss: 0.2636 - acc: 0.9271\n",
      "Epoch 59/100\n",
      "60000/60000 [==============================] - 2s 31us/step - loss: 0.2633 - acc: 0.9271\n",
      "Epoch 60/100\n",
      "60000/60000 [==============================] - 2s 30us/step - loss: 0.2629 - acc: 0.9272\n",
      "Epoch 61/100\n",
      "60000/60000 [==============================] - 2s 32us/step - loss: 0.2627 - acc: 0.9273\n",
      "Epoch 62/100\n",
      "60000/60000 [==============================] - 2s 35us/step - loss: 0.2623 - acc: 0.9274\n",
      "Epoch 63/100\n",
      "60000/60000 [==============================] - 2s 30us/step - loss: 0.2619 - acc: 0.9278\n",
      "Epoch 64/100\n",
      "60000/60000 [==============================] - 2s 30us/step - loss: 0.2618 - acc: 0.9276\n",
      "Epoch 65/100\n",
      "60000/60000 [==============================] - 2s 31us/step - loss: 0.2615 - acc: 0.9279\n",
      "Epoch 66/100\n",
      "60000/60000 [==============================] - 2s 31us/step - loss: 0.2612 - acc: 0.9278\n",
      "Epoch 67/100\n",
      "60000/60000 [==============================] - 2s 31us/step - loss: 0.2609 - acc: 0.9283\n",
      "Epoch 68/100\n",
      "60000/60000 [==============================] - 2s 31us/step - loss: 0.2606 - acc: 0.9279\n",
      "Epoch 69/100\n",
      "60000/60000 [==============================] - 2s 30us/step - loss: 0.2603 - acc: 0.9281\n",
      "Epoch 70/100\n",
      "60000/60000 [==============================] - 2s 40us/step - loss: 0.2600 - acc: 0.9282\n",
      "Epoch 71/100\n",
      "60000/60000 [==============================] - 2s 33us/step - loss: 0.2600 - acc: 0.9283\n",
      "Epoch 72/100\n",
      "60000/60000 [==============================] - 2s 31us/step - loss: 0.2595 - acc: 0.9282\n",
      "Epoch 73/100\n",
      "60000/60000 [==============================] - 2s 30us/step - loss: 0.2593 - acc: 0.9285\n",
      "Epoch 74/100\n",
      "60000/60000 [==============================] - 2s 31us/step - loss: 0.2590 - acc: 0.9287\n",
      "Epoch 75/100\n",
      "60000/60000 [==============================] - 2s 31us/step - loss: 0.2589 - acc: 0.9284\n",
      "Epoch 76/100\n",
      "60000/60000 [==============================] - 2s 31us/step - loss: 0.2587 - acc: 0.9285\n",
      "Epoch 77/100\n",
      "60000/60000 [==============================] - 2s 31us/step - loss: 0.2584 - acc: 0.9288\n",
      "Epoch 78/100\n",
      "60000/60000 [==============================] - 2s 35us/step - loss: 0.2582 - acc: 0.9288\n",
      "Epoch 79/100\n",
      "60000/60000 [==============================] - 2s 32us/step - loss: 0.2580 - acc: 0.9290\n",
      "Epoch 80/100\n",
      "60000/60000 [==============================] - 2s 30us/step - loss: 0.2577 - acc: 0.9287\n"
     ]
    },
    {
     "name": "stdout",
     "output_type": "stream",
     "text": [
      "Epoch 81/100\n",
      "60000/60000 [==============================] - 2s 30us/step - loss: 0.2575 - acc: 0.9293\n",
      "Epoch 82/100\n",
      "60000/60000 [==============================] - 2s 30us/step - loss: 0.2573 - acc: 0.9290\n",
      "Epoch 83/100\n",
      "60000/60000 [==============================] - 2s 30us/step - loss: 0.2570 - acc: 0.9293\n",
      "Epoch 84/100\n",
      "60000/60000 [==============================] - 2s 29us/step - loss: 0.2569 - acc: 0.9292\n",
      "Epoch 85/100\n",
      "60000/60000 [==============================] - 2s 29us/step - loss: 0.2566 - acc: 0.9295\n",
      "Epoch 86/100\n",
      "60000/60000 [==============================] - 2s 30us/step - loss: 0.2565 - acc: 0.9290\n",
      "Epoch 87/100\n",
      "60000/60000 [==============================] - 2s 35us/step - loss: 0.2564 - acc: 0.9291\n",
      "Epoch 88/100\n",
      "60000/60000 [==============================] - 2s 29us/step - loss: 0.2561 - acc: 0.9290\n",
      "Epoch 89/100\n",
      "60000/60000 [==============================] - 2s 29us/step - loss: 0.2559 - acc: 0.9295\n",
      "Epoch 90/100\n",
      "60000/60000 [==============================] - 2s 30us/step - loss: 0.2557 - acc: 0.9300\n",
      "Epoch 91/100\n",
      "60000/60000 [==============================] - 2s 30us/step - loss: 0.2555 - acc: 0.9295\n",
      "Epoch 92/100\n",
      "60000/60000 [==============================] - 2s 30us/step - loss: 0.2553 - acc: 0.9300\n",
      "Epoch 93/100\n",
      "60000/60000 [==============================] - 2s 29us/step - loss: 0.2552 - acc: 0.9296\n",
      "Epoch 94/100\n",
      "60000/60000 [==============================] - 2s 30us/step - loss: 0.2550 - acc: 0.9300\n",
      "Epoch 95/100\n",
      "60000/60000 [==============================] - 2s 30us/step - loss: 0.2548 - acc: 0.9298\n",
      "Epoch 96/100\n",
      "60000/60000 [==============================] - 2s 35us/step - loss: 0.2546 - acc: 0.9301\n",
      "Epoch 97/100\n",
      "60000/60000 [==============================] - 2s 30us/step - loss: 0.2545 - acc: 0.9298\n",
      "Epoch 98/100\n",
      "60000/60000 [==============================] - 2s 30us/step - loss: 0.2543 - acc: 0.9301\n",
      "Epoch 99/100\n",
      "60000/60000 [==============================] - 2s 29us/step - loss: 0.2542 - acc: 0.9296\n",
      "Epoch 100/100\n",
      "60000/60000 [==============================] - 2s 30us/step - loss: 0.2539 - acc: 0.9303\n"
     ]
    }
   ],
   "source": [
    "# Train\n",
    "history = model.fit(X_train, Y_Train, nb_epoch=nb_epoch, batch_size=batch_size, verbose=1)"
   ]
  },
  {
   "cell_type": "code",
   "execution_count": 6,
   "metadata": {},
   "outputs": [
    {
     "name": "stdout",
     "output_type": "stream",
     "text": [
      "10000/10000 [==============================] - 1s 58us/step\n",
      "Summary: Loss over the test dataset: 0.27, Accuracy: 0.92\n"
     ]
    }
   ],
   "source": [
    "# Evaluate\n",
    "evaluation = model.evaluate(X_test, Y_Test, verbose=1)\n",
    "print('Summary: Loss over the test dataset: %.2f, Accuracy: %.2f' % (evaluation[0], evaluation[1]))"
   ]
  },
  {
   "cell_type": "code",
   "execution_count": null,
   "metadata": {},
   "outputs": [],
   "source": []
  }
 ],
 "metadata": {
  "kernelspec": {
   "display_name": "Python 3",
   "language": "python",
   "name": "python3"
  },
  "language_info": {
   "codemirror_mode": {
    "name": "ipython",
    "version": 3
   },
   "file_extension": ".py",
   "mimetype": "text/x-python",
   "name": "python",
   "nbconvert_exporter": "python",
   "pygments_lexer": "ipython3",
   "version": "3.7.1"
  }
 },
 "nbformat": 4,
 "nbformat_minor": 1
}
