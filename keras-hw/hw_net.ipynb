{
 "cells": [
  {
   "cell_type": "code",
   "execution_count": 1,
   "metadata": {},
   "outputs": [
    {
     "name": "stderr",
     "output_type": "stream",
     "text": [
      "Using TensorFlow backend.\n"
     ]
    }
   ],
   "source": [
    "from keras.models import Sequential\n",
    "from keras.layers import Dense\n",
    "from keras.optimizers import SGD\n",
    "from keras.datasets import mnist\n",
    "from keras.utils import np_utils"
   ]
  },
  {
   "cell_type": "code",
   "execution_count": 2,
   "metadata": {},
   "outputs": [],
   "source": [
    "batch_size = 128\n",
    "nb_classes = 10\n",
    "nb_epoch = 100"
   ]
  },
  {
   "cell_type": "code",
   "execution_count": 3,
   "metadata": {},
   "outputs": [],
   "source": [
    "# Load MNIST dataset\n",
    "(X_train, y_train), (X_test, y_test) = mnist.load_data()\n",
    "X_train = X_train.reshape(60000, 784)\n",
    "X_test = X_test.reshape(10000, 784)\n",
    "X_train = X_train.astype('float32')\n",
    "X_test = X_test.astype('float32')\n",
    "X_train /= 255\n",
    "X_test /= 255\n",
    "Y_Train = np_utils.to_categorical(y_train, nb_classes)\n",
    "Y_Test = np_utils.to_categorical(y_test, nb_classes)"
   ]
  },
  {
   "cell_type": "code",
   "execution_count": 4,
   "metadata": {},
   "outputs": [
    {
     "name": "stdout",
     "output_type": "stream",
     "text": [
      "WARNING:tensorflow:From C:\\Users\\gpu\\Anaconda3\\envs\\keras\\lib\\site-packages\\tensorflow\\python\\framework\\op_def_library.py:263: colocate_with (from tensorflow.python.framework.ops) is deprecated and will be removed in a future version.\n",
      "Instructions for updating:\n",
      "Colocations handled automatically by placer.\n",
      "_________________________________________________________________\n",
      "Layer (type)                 Output Shape              Param #   \n",
      "=================================================================\n",
      "dense_1 (Dense)              (None, 625)               490625    \n",
      "_________________________________________________________________\n",
      "dense_2 (Dense)              (None, 625)               391250    \n",
      "_________________________________________________________________\n",
      "dense_3 (Dense)              (None, 10)                6260      \n",
      "=================================================================\n",
      "Total params: 888,135\n",
      "Trainable params: 888,135\n",
      "Non-trainable params: 0\n",
      "_________________________________________________________________\n"
     ]
    },
    {
     "name": "stderr",
     "output_type": "stream",
     "text": [
      "C:\\Users\\gpu\\Anaconda3\\envs\\keras\\lib\\site-packages\\ipykernel_launcher.py:3: UserWarning: Update your `Dense` call to the Keras 2 API: `Dense(input_dim=784, activation=\"sigmoid\", units=625, kernel_initializer=\"normal\")`\n",
      "  This is separate from the ipykernel package so we can avoid doing imports until\n",
      "C:\\Users\\gpu\\Anaconda3\\envs\\keras\\lib\\site-packages\\ipykernel_launcher.py:4: UserWarning: Update your `Dense` call to the Keras 2 API: `Dense(input_dim=625, activation=\"sigmoid\", units=625, kernel_initializer=\"normal\")`\n",
      "  after removing the cwd from sys.path.\n",
      "C:\\Users\\gpu\\Anaconda3\\envs\\keras\\lib\\site-packages\\ipykernel_launcher.py:5: UserWarning: Update your `Dense` call to the Keras 2 API: `Dense(input_dim=625, activation=\"softmax\", units=10, kernel_initializer=\"normal\")`\n",
      "  \"\"\"\n"
     ]
    }
   ],
   "source": [
    "# Multilayer Perceptron model\n",
    "model = Sequential()\n",
    "model.add(Dense(output_dim=625, input_dim=784, init='normal', activation='sigmoid'))\n",
    "model.add(Dense(output_dim=625, input_dim=625, init='normal', activation='sigmoid'))\n",
    "model.add(Dense(output_dim=10, input_dim=625, init='normal', activation='softmax'))\n",
    "model.compile(optimizer=SGD(lr=0.05), loss='categorical_crossentropy', metrics=['accuracy'])\n",
    "model.summary()"
   ]
  },
  {
   "cell_type": "code",
   "execution_count": 5,
   "metadata": {},
   "outputs": [
    {
     "name": "stdout",
     "output_type": "stream",
     "text": [
      "WARNING:tensorflow:From C:\\Users\\gpu\\Anaconda3\\envs\\keras\\lib\\site-packages\\tensorflow\\python\\ops\\math_ops.py:3066: to_int32 (from tensorflow.python.ops.math_ops) is deprecated and will be removed in a future version.\n",
      "Instructions for updating:\n",
      "Use tf.cast instead.\n"
     ]
    },
    {
     "name": "stderr",
     "output_type": "stream",
     "text": [
      "C:\\Users\\gpu\\Anaconda3\\envs\\keras\\lib\\site-packages\\ipykernel_launcher.py:2: UserWarning: The `nb_epoch` argument in `fit` has been renamed `epochs`.\n",
      "  \n"
     ]
    },
    {
     "name": "stdout",
     "output_type": "stream",
     "text": [
      "Epoch 1/100\n",
      "60000/60000 [==============================] - 4s 62us/step - loss: 1.9011 - acc: 0.4379\n",
      "Epoch 2/100\n",
      "60000/60000 [==============================] - 3s 44us/step - loss: 0.9135 - acc: 0.7802\n",
      "Epoch 3/100\n",
      "60000/60000 [==============================] - 3s 43us/step - loss: 0.5827 - acc: 0.8475\n",
      "Epoch 4/100\n",
      "60000/60000 [==============================] - 3s 44us/step - loss: 0.4690 - acc: 0.8727\n",
      "Epoch 5/100\n",
      "60000/60000 [==============================] - 3s 48us/step - loss: 0.4152 - acc: 0.8835\n",
      "Epoch 6/100\n",
      "60000/60000 [==============================] - 3s 42us/step - loss: 0.3850 - acc: 0.8905\n",
      "Epoch 7/100\n",
      "60000/60000 [==============================] - 3s 42us/step - loss: 0.3644 - acc: 0.8957\n",
      "Epoch 8/100\n",
      "60000/60000 [==============================] - 3s 48us/step - loss: 0.3497 - acc: 0.8996\n",
      "Epoch 9/100\n",
      "60000/60000 [==============================] - 2s 41us/step - loss: 0.3382 - acc: 0.9024\n",
      "Epoch 10/100\n",
      "60000/60000 [==============================] - 2s 38us/step - loss: 0.3296 - acc: 0.9048\n",
      "Epoch 11/100\n",
      "60000/60000 [==============================] - 3s 42us/step - loss: 0.3219 - acc: 0.9059\n",
      "Epoch 12/100\n",
      "60000/60000 [==============================] - 2s 38us/step - loss: 0.3152 - acc: 0.9083\n",
      "Epoch 13/100\n",
      "60000/60000 [==============================] - 2s 38us/step - loss: 0.3098 - acc: 0.9102\n",
      "Epoch 14/100\n",
      "60000/60000 [==============================] - 2s 39us/step - loss: 0.3046 - acc: 0.9119\n",
      "Epoch 15/100\n",
      "60000/60000 [==============================] - 2s 38us/step - loss: 0.3001 - acc: 0.9127\n",
      "Epoch 16/100\n",
      "60000/60000 [==============================] - 2s 38us/step - loss: 0.2963 - acc: 0.9141\n",
      "Epoch 17/100\n",
      "60000/60000 [==============================] - 2s 38us/step - loss: 0.2926 - acc: 0.9153\n",
      "Epoch 18/100\n",
      "60000/60000 [==============================] - 2s 41us/step - loss: 0.2891 - acc: 0.9163\n",
      "Epoch 19/100\n",
      "60000/60000 [==============================] - 2s 38us/step - loss: 0.2856 - acc: 0.9178\n",
      "Epoch 20/100\n",
      "60000/60000 [==============================] - 2s 38us/step - loss: 0.2829 - acc: 0.9187\n",
      "Epoch 21/100\n",
      "60000/60000 [==============================] - 2s 38us/step - loss: 0.2794 - acc: 0.9190\n",
      "Epoch 22/100\n",
      "60000/60000 [==============================] - 2s 38us/step - loss: 0.2767 - acc: 0.9193\n",
      "Epoch 23/100\n",
      "60000/60000 [==============================] - 2s 38us/step - loss: 0.2740 - acc: 0.9210\n",
      "Epoch 24/100\n",
      "60000/60000 [==============================] - 2s 39us/step - loss: 0.2715 - acc: 0.9215\n",
      "Epoch 25/100\n",
      "60000/60000 [==============================] - 2s 41us/step - loss: 0.2687 - acc: 0.9222\n",
      "Epoch 26/100\n",
      "60000/60000 [==============================] - 2s 39us/step - loss: 0.2664 - acc: 0.9225\n",
      "Epoch 27/100\n",
      "60000/60000 [==============================] - 2s 38us/step - loss: 0.2634 - acc: 0.9235\n",
      "Epoch 28/100\n",
      "60000/60000 [==============================] - 2s 38us/step - loss: 0.2606 - acc: 0.9247\n",
      "Epoch 29/100\n",
      "60000/60000 [==============================] - 2s 38us/step - loss: 0.2583 - acc: 0.9250\n",
      "Epoch 30/100\n",
      "60000/60000 [==============================] - 2s 38us/step - loss: 0.2555 - acc: 0.9266\n",
      "Epoch 31/100\n",
      "60000/60000 [==============================] - 2s 41us/step - loss: 0.2534 - acc: 0.9269\n",
      "Epoch 32/100\n",
      "60000/60000 [==============================] - 2s 39us/step - loss: 0.2505 - acc: 0.9278\n",
      "Epoch 33/100\n",
      "60000/60000 [==============================] - 2s 38us/step - loss: 0.2478 - acc: 0.9286\n",
      "Epoch 34/100\n",
      "60000/60000 [==============================] - 2s 38us/step - loss: 0.2452 - acc: 0.9294\n",
      "Epoch 35/100\n",
      "60000/60000 [==============================] - 2s 38us/step - loss: 0.2427 - acc: 0.9297\n",
      "Epoch 36/100\n",
      "60000/60000 [==============================] - 2s 38us/step - loss: 0.2398 - acc: 0.9307\n",
      "Epoch 37/100\n",
      "60000/60000 [==============================] - 2s 38us/step - loss: 0.2369 - acc: 0.9319\n",
      "Epoch 38/100\n",
      "60000/60000 [==============================] - 3s 42us/step - loss: 0.2344 - acc: 0.9327\n",
      "Epoch 39/100\n",
      "60000/60000 [==============================] - 2s 38us/step - loss: 0.2313 - acc: 0.9337\n",
      "Epoch 40/100\n",
      "60000/60000 [==============================] - 2s 39us/step - loss: 0.2288 - acc: 0.9347\n",
      "Epoch 41/100\n",
      "60000/60000 [==============================] - 2s 38us/step - loss: 0.2261 - acc: 0.9345\n",
      "Epoch 42/100\n",
      "60000/60000 [==============================] - 2s 38us/step - loss: 0.2230 - acc: 0.9357\n",
      "Epoch 43/100\n",
      "60000/60000 [==============================] - 2s 38us/step - loss: 0.2201 - acc: 0.9376\n",
      "Epoch 44/100\n",
      "60000/60000 [==============================] - 2s 38us/step - loss: 0.2176 - acc: 0.9378\n",
      "Epoch 45/100\n",
      "60000/60000 [==============================] - 3s 44us/step - loss: 0.2147 - acc: 0.9388\n",
      "Epoch 46/100\n",
      "60000/60000 [==============================] - 2s 38us/step - loss: 0.2122 - acc: 0.9394\n",
      "Epoch 47/100\n",
      "60000/60000 [==============================] - 2s 38us/step - loss: 0.2090 - acc: 0.9402\n",
      "Epoch 48/100\n",
      "60000/60000 [==============================] - 2s 38us/step - loss: 0.2060 - acc: 0.9410\n",
      "Epoch 49/100\n",
      "60000/60000 [==============================] - 2s 38us/step - loss: 0.2038 - acc: 0.9417\n",
      "Epoch 50/100\n",
      "60000/60000 [==============================] - 2s 38us/step - loss: 0.2005 - acc: 0.9424\n",
      "Epoch 51/100\n",
      "60000/60000 [==============================] - 2s 38us/step - loss: 0.1977 - acc: 0.9433\n",
      "Epoch 52/100\n",
      "60000/60000 [==============================] - 3s 42us/step - loss: 0.1952 - acc: 0.9446\n",
      "Epoch 53/100\n",
      "60000/60000 [==============================] - 2s 40us/step - loss: 0.1925 - acc: 0.9455\n",
      "Epoch 54/100\n",
      "60000/60000 [==============================] - 2s 39us/step - loss: 0.1904 - acc: 0.9457\n",
      "Epoch 55/100\n",
      "60000/60000 [==============================] - 2s 38us/step - loss: 0.1872 - acc: 0.9463\n",
      "Epoch 56/100\n",
      "60000/60000 [==============================] - 2s 38us/step - loss: 0.1849 - acc: 0.9477\n",
      "Epoch 57/100\n",
      "60000/60000 [==============================] - 2s 38us/step - loss: 0.1824 - acc: 0.9479\n",
      "Epoch 58/100\n",
      "60000/60000 [==============================] - 2s 38us/step - loss: 0.1797 - acc: 0.9490\n",
      "Epoch 59/100\n",
      "60000/60000 [==============================] - 2s 42us/step - loss: 0.1774 - acc: 0.9497\n",
      "Epoch 60/100\n",
      "60000/60000 [==============================] - 2s 38us/step - loss: 0.1749 - acc: 0.9501\n",
      "Epoch 61/100\n",
      "60000/60000 [==============================] - 2s 38us/step - loss: 0.1726 - acc: 0.9515\n",
      "Epoch 62/100\n",
      "60000/60000 [==============================] - 2s 38us/step - loss: 0.1703 - acc: 0.9515\n",
      "Epoch 63/100\n",
      "60000/60000 [==============================] - 3s 42us/step - loss: 0.1681 - acc: 0.9524\n",
      "Epoch 64/100\n",
      "60000/60000 [==============================] - 3s 46us/step - loss: 0.1661 - acc: 0.9524\n",
      "Epoch 65/100\n",
      "60000/60000 [==============================] - 4s 61us/step - loss: 0.1635 - acc: 0.9533: 1s -\n",
      "Epoch 66/100\n",
      "60000/60000 [==============================] - 3s 46us/step - loss: 0.1615 - acc: 0.9540\n",
      "Epoch 67/100\n",
      "60000/60000 [==============================] - 3s 45us/step - loss: 0.1597 - acc: 0.9542\n",
      "Epoch 68/100\n",
      "60000/60000 [==============================] - 3s 46us/step - loss: 0.1573 - acc: 0.9547\n",
      "Epoch 69/100\n",
      "60000/60000 [==============================] - 3s 49us/step - loss: 0.1558 - acc: 0.9554\n",
      "Epoch 70/100\n",
      "60000/60000 [==============================] - 3s 48us/step - loss: 0.1538 - acc: 0.9558\n",
      "Epoch 71/100\n",
      "60000/60000 [==============================] - 3s 49us/step - loss: 0.1515 - acc: 0.9566\n",
      "Epoch 72/100\n",
      "60000/60000 [==============================] - 3s 46us/step - loss: 0.1500 - acc: 0.9568\n",
      "Epoch 73/100\n",
      "60000/60000 [==============================] - 3s 46us/step - loss: 0.1476 - acc: 0.9579\n",
      "Epoch 74/100\n",
      "60000/60000 [==============================] - 3s 49us/step - loss: 0.1459 - acc: 0.9581\n",
      "Epoch 75/100\n",
      "60000/60000 [==============================] - 3s 49us/step - loss: 0.1443 - acc: 0.9587\n",
      "Epoch 76/100\n",
      "60000/60000 [==============================] - 3s 57us/step - loss: 0.1421 - acc: 0.9587\n",
      "Epoch 77/100\n",
      "60000/60000 [==============================] - 2s 41us/step - loss: 0.1408 - acc: 0.9594\n",
      "Epoch 78/100\n",
      "60000/60000 [==============================] - 4s 68us/step - loss: 0.1389 - acc: 0.9606\n",
      "Epoch 79/100\n",
      "60000/60000 [==============================] - 3s 42us/step - loss: 0.1374 - acc: 0.9605\n",
      "Epoch 80/100\n",
      "60000/60000 [==============================] - 3s 44us/step - loss: 0.1357 - acc: 0.9612\n",
      "Epoch 81/100\n"
     ]
    },
    {
     "name": "stdout",
     "output_type": "stream",
     "text": [
      "60000/60000 [==============================] - 3s 43us/step - loss: 0.1341 - acc: 0.9613\n",
      "Epoch 82/100\n",
      "60000/60000 [==============================] - 3s 46us/step - loss: 0.1328 - acc: 0.9620\n",
      "Epoch 83/100\n",
      "60000/60000 [==============================] - 3s 43us/step - loss: 0.1308 - acc: 0.9628\n",
      "Epoch 84/100\n",
      "60000/60000 [==============================] - 4s 73us/step - loss: 0.1296 - acc: 0.9636\n",
      "Epoch 85/100\n",
      "60000/60000 [==============================] - 3s 45us/step - loss: 0.1281 - acc: 0.9634\n",
      "Epoch 86/100\n",
      "60000/60000 [==============================] - 3s 47us/step - loss: 0.1266 - acc: 0.9641\n",
      "Epoch 87/100\n",
      "60000/60000 [==============================] - 4s 70us/step - loss: 0.1250 - acc: 0.9645\n",
      "Epoch 88/100\n",
      "60000/60000 [==============================] - 4s 60us/step - loss: 0.1238 - acc: 0.9648\n",
      "Epoch 89/100\n",
      "60000/60000 [==============================] - 3s 45us/step - loss: 0.1224 - acc: 0.9650\n",
      "Epoch 90/100\n",
      "60000/60000 [==============================] - 4s 64us/step - loss: 0.1212 - acc: 0.9652\n",
      "Epoch 91/100\n",
      "60000/60000 [==============================] - 3s 49us/step - loss: 0.1196 - acc: 0.9663\n",
      "Epoch 92/100\n",
      "60000/60000 [==============================] - 4s 70us/step - loss: 0.1183 - acc: 0.9666\n",
      "Epoch 93/100\n",
      "60000/60000 [==============================] - 5s 86us/step - loss: 0.1171 - acc: 0.9665\n",
      "Epoch 94/100\n",
      "60000/60000 [==============================] - 3s 54us/step - loss: 0.1157 - acc: 0.9673\n",
      "Epoch 95/100\n",
      "60000/60000 [==============================] - 3s 44us/step - loss: 0.1145 - acc: 0.9675\n",
      "Epoch 96/100\n",
      "60000/60000 [==============================] - 3s 43us/step - loss: 0.1130 - acc: 0.9681\n",
      "Epoch 97/100\n",
      "60000/60000 [==============================] - 3s 44us/step - loss: 0.1120 - acc: 0.9680\n",
      "Epoch 98/100\n",
      "60000/60000 [==============================] - 4s 71us/step - loss: 0.1106 - acc: 0.9688\n",
      "Epoch 99/100\n",
      "60000/60000 [==============================] - 3s 55us/step - loss: 0.1093 - acc: 0.9684\n",
      "Epoch 100/100\n",
      "60000/60000 [==============================] - 3s 47us/step - loss: 0.1086 - acc: 0.9694\n"
     ]
    }
   ],
   "source": [
    "# Train\n",
    "history = model.fit(X_train, Y_Train, nb_epoch=nb_epoch, batch_size=batch_size, verbose=1)"
   ]
  },
  {
   "cell_type": "code",
   "execution_count": 6,
   "metadata": {},
   "outputs": [
    {
     "name": "stdout",
     "output_type": "stream",
     "text": [
      "10000/10000 [==============================] - 1s 83us/step\n",
      "Summary: Loss over the test dataset: 0.12, Accuracy: 0.96\n"
     ]
    }
   ],
   "source": [
    "# Evaluate\n",
    "evaluation = model.evaluate(X_test, Y_Test, verbose=1)\n",
    "print('Summary: Loss over the test dataset: %.2f, Accuracy: %.2f' % (evaluation[0], evaluation[1]))"
   ]
  },
  {
   "cell_type": "code",
   "execution_count": null,
   "metadata": {},
   "outputs": [],
   "source": []
  }
 ],
 "metadata": {
  "kernelspec": {
   "display_name": "Python 3",
   "language": "python",
   "name": "python3"
  },
  "language_info": {
   "codemirror_mode": {
    "name": "ipython",
    "version": 3
   },
   "file_extension": ".py",
   "mimetype": "text/x-python",
   "name": "python",
   "nbconvert_exporter": "python",
   "pygments_lexer": "ipython3",
   "version": "3.7.1"
  }
 },
 "nbformat": 4,
 "nbformat_minor": 1
}
