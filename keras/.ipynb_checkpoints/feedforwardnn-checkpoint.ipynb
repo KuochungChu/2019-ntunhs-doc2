{
 "cells": [
  {
   "cell_type": "code",
   "execution_count": 14,
   "metadata": {},
   "outputs": [],
   "source": [
    "from tensorflow.python.keras.datasets import mnist\n",
    "import matplotlib.pyplot as plt\n",
    "import numpy as np\n",
    "\n",
    "%matplotlib inline\n",
    "\n",
    "(x_train, y_train), (x_test, y_test) = mnist.load_data()"
   ]
  },
  {
   "cell_type": "code",
   "execution_count": 20,
   "metadata": {},
   "outputs": [
    {
     "data": {
      "image/png": "[encoded data removed]",
      "text/plain": [
       "<Figure size 288x288 with 1 Axes>"
      ]
     },
     "metadata": {
      "needs_background": "light"
     },
     "output_type": "display_data"
    }
   ],
   "source": [
    "#看一下圖片\n",
    "train_img = np.reshape(x_train[22, :], (28, 28))\n",
    "plt.matshow(train_img, cmap = plt.get_cmap('gray'))\n",
    "plt.show()"
   ]
  },
  {
   "cell_type": "code",
   "execution_count": 21,
   "metadata": {},
   "outputs": [
    {
     "name": "stdout",
     "output_type": "stream",
     "text": [
      "x_train.shape: (60000, 28, 28)\n",
      "x_test.shape: (10000, 28, 28)\n",
      "y_train.shape: (60000,)\n",
      "y_test.shape: (10000,)\n"
     ]
    }
   ],
   "source": [
    "print('x_train.shape:', x_train.shape)\n",
    "print('x_test.shape:', x_test.shape)\n",
    "print('y_train.shape:', y_train.shape)\n",
    "print('y_test.shape:', y_test.shape)"
   ]
  },
  {
   "cell_type": "code",
   "execution_count": 22,
   "metadata": {},
   "outputs": [],
   "source": [
    "#將每張圖片拉平(28*28=784)\n",
    "#將每張圖片除上色階255，圖上的像素介於0~1\n",
    "\n",
    "x_train = x_train.reshape(60000, 784)\n",
    "x_train = x_train/255.\n",
    "x_test = x_test.reshape(10000, 784)\n",
    "x_test = x_test/255."
   ]
  },
  {
   "cell_type": "code",
   "execution_count": 23,
   "metadata": {},
   "outputs": [],
   "source": [
    "#將label的資料轉成one-hot encoding \n",
    "\n",
    "from tensorflow.python.keras.utils import to_categorical\n",
    "\n",
    "\n",
    "y_train = to_categorical(y_train, 10)\n",
    "y_test = to_categorical(y_test, 10)"
   ]
  },
  {
   "cell_type": "code",
   "execution_count": 24,
   "metadata": {},
   "outputs": [],
   "source": [
    "#使用Sequential建模\n",
    "#利用add方法增加模型層數\n",
    "\n",
    "from tensorflow.python.keras.models import Sequential\n",
    "\n",
    "model = Sequential()"
   ]
  },
  {
   "cell_type": "code",
   "execution_count": 25,
   "metadata": {},
   "outputs": [],
   "source": [
    "#增加一層(hidden layer)\n",
    "#輸入點為784個\n",
    "#該層之神經元數量為64\n",
    "#激活函數為relu\n",
    "\n",
    "from tensorflow.python.keras.layers import Dense\n",
    "\n",
    "\n",
    "model.add(\n",
    "    Dense(\n",
    "        units=64, \n",
    "        input_shape=(784,),\n",
    "        activation='relu'\n",
    "    )\n",
    ")"
   ]
  },
  {
   "cell_type": "code",
   "execution_count": 28,
   "metadata": {},
   "outputs": [],
   "source": [
    "#增加一層(output layer)\n",
    "#該層之神經元數量為10，因為手寫結果1,2,3,4,5,6,7,8,9,0 (共10個)\n",
    "#softmax會綜合所有輸入的結果，計算該節點之機率\n",
    "\n",
    "model.add(\n",
    "    Dense(\n",
    "        units=10, \n",
    "        activation='softmax'\n",
    "    )\n",
    ")"
   ]
  },
  {
   "cell_type": "code",
   "execution_count": null,
   "metadata": {},
   "outputs": [
    {
     "name": "stdout",
     "output_type": "stream",
     "text": [
      "Train on 48000 samples, validate on 12000 samples\n",
      "Epoch 1/20\n",
      "47808/48000 [============================>.] - ETA: 0s - loss: 1.3671 - acc: 0.6479"
     ]
    }
   ],
   "source": [
    "#透過callbacks方法可以調用執行過程中的結果\n",
    "#該結果可以轉為TensorBoard視覺化圖表\n",
    "\n",
    "#batch_size: 一次抓一些資料，小批次\n",
    "#epochs: 每個小批次要跑幾次，目的是持續找出loss函數的最小值\n",
    "\n",
    "#看到loss、acc的值，這表示使用訓練資料集的結果\n",
    "#看到val_loss、val_acc的值，這表示使用測試資料集的結果\n",
    "\n",
    "#當epoch變多時，若acc變高、loss變低的時候，卻發現 val_acc變低、loss變高，這種情況就類似過擬合現象\n",
    "#過擬合現象可能導致未知資料的預測性能下降\n",
    "\n",
    "from tensorflow.python.keras.callbacks import TensorBoard\n",
    "\n",
    "\n",
    "model.compile(\n",
    "    optimizer='adam',\n",
    "    loss='categorical_crossentropy',\n",
    "    metrics=['accuracy']\n",
    ")\n",
    "tsb = TensorBoard(log_dir='mnist')\n",
    "history_adam = model.fit(\n",
    "    x_train,\n",
    "    y_train,\n",
    "    batch_size=32,\n",
    "    epochs=20,\n",
    "    validation_split=0.2,\n",
    "    callbacks=[tsb]\n",
    ")"
   ]
  },
  {
   "cell_type": "code",
   "execution_count": 27,
   "metadata": {},
   "outputs": [],
   "source": [
    "from tensorflow.python.keras.datasets import mnist\n",
    "from tensorflow.python.keras.utils import to_categorical\n",
    "from tensorflow.python.keras.callbacks import TensorBoard\n",
    "from tensorflow.python.keras.layers import Input, Dense\n",
    "from tensorflow.python.keras.models import Model\n",
    "\n",
    "\n",
    "(x_train, y_train), (x_test, y_test) = mnist.load_data()\n",
    "x_train = x_train.reshape(60000, 784)\n",
    "x_train = x_train/255.\n",
    "x_test = x_test.reshape(10000, 784)\n",
    "x_test = x_test/255.\n",
    "y_train = to_categorical(y_train, 10)\n",
    "y_test = to_categorical(y_test, 10)\n",
    "tsb = TensorBoard(log_dir='./logs')"
   ]
  },
  {
   "cell_type": "markdown",
   "metadata": {},
   "source": [
    "** リスト4.10:Functional APIによるモデルの構築 **"
   ]
  },
  {
   "cell_type": "code",
   "execution_count": 10,
   "metadata": {},
   "outputs": [],
   "source": [
    "input = Input(shape=(784, ))\n",
    "middle = Dense(units=64, activation='relu')(input)\n",
    "output = Dense(units=10, activation='softmax')(middle)\n",
    "model = Model(inputs=[input], outputs=[output])"
   ]
  },
  {
   "cell_type": "markdown",
   "metadata": {},
   "source": [
    "** リスト4.11:構築したモデルのコンパイル例 **"
   ]
  },
  {
   "cell_type": "code",
   "execution_count": 11,
   "metadata": {},
   "outputs": [],
   "source": [
    "model.compile(\n",
    "    optimizer='adam',\n",
    "    loss='categorical_crossentropy',\n",
    "    metrics=['accuracy']\n",
    ")"
   ]
  },
  {
   "cell_type": "markdown",
   "metadata": {},
   "source": [
    "** リスト4.12:MNISTのデータセットを学習する **"
   ]
  },
  {
   "cell_type": "code",
   "execution_count": 12,
   "metadata": {},
   "outputs": [
    {
     "name": "stdout",
     "output_type": "stream",
     "text": [
      "Train on 48000 samples, validate on 12000 samples\n",
      "Epoch 1/20\n",
      "48000/48000 [==============================] - 10s 199us/sample - loss: 0.3360 - acc: 0.9066 - val_loss: 0.1809 - val_acc: 0.9510\n",
      "Epoch 2/20\n",
      "48000/48000 [==============================] - 8s 175us/sample - loss: 0.1645 - acc: 0.9526 - val_loss: 0.1387 - val_acc: 0.9608\n",
      "Epoch 3/20\n",
      "48000/48000 [==============================] - 9s 179us/sample - loss: 0.1206 - acc: 0.9651 - val_loss: 0.1210 - val_acc: 0.9646\n",
      "Epoch 4/20\n",
      "48000/48000 [==============================] - 8s 173us/sample - loss: 0.0958 - acc: 0.9716 - val_loss: 0.1158 - val_acc: 0.9653\n",
      "Epoch 5/20\n",
      "48000/48000 [==============================] - 8s 161us/sample - loss: 0.0774 - acc: 0.9775 - val_loss: 0.1062 - val_acc: 0.9687\n",
      "Epoch 6/20\n",
      "48000/48000 [==============================] - 8s 167us/sample - loss: 0.0643 - acc: 0.9803 - val_loss: 0.1006 - val_acc: 0.9691\n",
      "Epoch 7/20\n",
      "48000/48000 [==============================] - 8s 159us/sample - loss: 0.0546 - acc: 0.9845 - val_loss: 0.0965 - val_acc: 0.9715\n",
      "Epoch 8/20\n",
      "48000/48000 [==============================] - 8s 166us/sample - loss: 0.0457 - acc: 0.9860 - val_loss: 0.1000 - val_acc: 0.9712\n",
      "Epoch 9/20\n",
      "48000/48000 [==============================] - 8s 159us/sample - loss: 0.0395 - acc: 0.9883 - val_loss: 0.1020 - val_acc: 0.9720\n",
      "Epoch 10/20\n",
      "48000/48000 [==============================] - 8s 171us/sample - loss: 0.0329 - acc: 0.9902 - val_loss: 0.1046 - val_acc: 0.9713\n",
      "Epoch 11/20\n",
      "48000/48000 [==============================] - 8s 162us/sample - loss: 0.0292 - acc: 0.9912 - val_loss: 0.1118 - val_acc: 0.9695\n",
      "Epoch 12/20\n",
      "48000/48000 [==============================] - 8s 166us/sample - loss: 0.0248 - acc: 0.9930 - val_loss: 0.0989 - val_acc: 0.9743\n",
      "Epoch 13/20\n",
      "48000/48000 [==============================] - 8s 167us/sample - loss: 0.0222 - acc: 0.9932 - val_loss: 0.1010 - val_acc: 0.9742\n",
      "Epoch 14/20\n",
      "48000/48000 [==============================] - 8s 168us/sample - loss: 0.0189 - acc: 0.9943 - val_loss: 0.1092 - val_acc: 0.9729\n",
      "Epoch 15/20\n",
      "48000/48000 [==============================] - 8s 162us/sample - loss: 0.0161 - acc: 0.9955 - val_loss: 0.1056 - val_acc: 0.9742\n",
      "Epoch 16/20\n",
      "48000/48000 [==============================] - 8s 168us/sample - loss: 0.0143 - acc: 0.9960 - val_loss: 0.1069 - val_acc: 0.9725\n",
      "Epoch 17/20\n",
      "48000/48000 [==============================] - 8s 161us/sample - loss: 0.0131 - acc: 0.9965 - val_loss: 0.1118 - val_acc: 0.9726\n",
      "Epoch 18/20\n",
      "48000/48000 [==============================] - 8s 163us/sample - loss: 0.0113 - acc: 0.9970 - val_loss: 0.1140 - val_acc: 0.9729\n",
      "Epoch 19/20\n",
      "48000/48000 [==============================] - 8s 171us/sample - loss: 0.0101 - acc: 0.9975 - val_loss: 0.1197 - val_acc: 0.9728\n",
      "Epoch 20/20\n",
      "48000/48000 [==============================] - 8s 167us/sample - loss: 0.0102 - acc: 0.9973 - val_loss: 0.1143 - val_acc: 0.9747\n"
     ]
    },
    {
     "data": {
      "text/plain": [
       "<tensorflow.python.keras.callbacks.History at 0x11c3e588>"
      ]
     },
     "execution_count": 12,
     "metadata": {},
     "output_type": "execute_result"
    }
   ],
   "source": [
    "model.fit(\n",
    "    x_train,\n",
    "    y_train,\n",
    "    batch_size=32,\n",
    "    epochs=20,\n",
    "    callbacks=[tsb],\n",
    "    validation_split=0.2\n",
    ")"
   ]
  },
  {
   "cell_type": "code",
   "execution_count": null,
   "metadata": {},
   "outputs": [],
   "source": []
  }
 ],
 "metadata": {
  "kernelspec": {
   "display_name": "Python 3",
   "language": "python",
   "name": "python3"
  },
  "language_info": {
   "codemirror_mode": {
    "name": "ipython",
    "version": 3
   },
   "file_extension": ".py",
   "mimetype": "text/x-python",
   "name": "python",
   "nbconvert_exporter": "python",
   "pygments_lexer": "ipython3",
   "version": "3.7.1"
  }
 },
 "nbformat": 4,
 "nbformat_minor": 2
}
