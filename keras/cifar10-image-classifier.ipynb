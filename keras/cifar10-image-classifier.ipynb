{
 "cells": [
  {
   "cell_type": "code",
   "execution_count": 1,
   "metadata": {},
   "outputs": [],
   "source": [
    "from tensorflow.python.keras.datasets import cifar10\n",
    "\n",
    "\n",
    "(x_train, y_train), (x_test, y_test) = cifar10.load_data()"
   ]
  },
  {
   "cell_type": "code",
   "execution_count": 2,
   "metadata": {},
   "outputs": [
    {
     "name": "stdout",
     "output_type": "stream",
     "text": [
      "x_train.shape : (50000, 32, 32, 3)\n",
      "x_test.shape  : (10000, 32, 32, 3)\n",
      "y_train.shape : (50000, 1)\n",
      "y_test.shape  : (10000, 1)\n"
     ]
    }
   ],
   "source": [
    "print('x_train.shape :', x_train.shape)\n",
    "print('x_test.shape  :', x_test.shape)\n",
    "print('y_train.shape :', y_train.shape)\n",
    "print('y_test.shape  :', y_test.shape)"
   ]
  },
  {
   "cell_type": "code",
   "execution_count": 3,
   "metadata": {},
   "outputs": [],
   "source": [
    "from tensorflow.python.keras.utils import to_categorical\n",
    "\n",
    "x_train = x_train/255.\n",
    "x_test = x_test/255.\n",
    "\n",
    "#因為有10個分類\n",
    "#one-hot-encoding\n",
    "y_train = to_categorical(y_train, 10)\n",
    "y_test = to_categorical(y_test, 10)\n",
    "\n",
    "label_dict={0:\"airplane\",1:\"automobile\",2:\"bird\",3:\"cat\",4:\"deer\",\n",
    "            5:\"dog\",6:\"frog\",7:\"horse\",8:\"ship\",9:\"truck\"}"
   ]
  },
  {
   "cell_type": "code",
   "execution_count": 4,
   "metadata": {},
   "outputs": [],
   "source": [
    "from tensorflow.python.keras.models import Sequential\n",
    "\n",
    "\n",
    "model = Sequential()"
   ]
  },
  {
   "cell_type": "code",
   "execution_count": 5,
   "metadata": {},
   "outputs": [
    {
     "name": "stdout",
     "output_type": "stream",
     "text": [
      "WARNING:tensorflow:From C:\\Users\\gpu\\Anaconda3\\envs\\keras\\lib\\site-packages\\tensorflow\\python\\ops\\resource_variable_ops.py:435: colocate_with (from tensorflow.python.framework.ops) is deprecated and will be removed in a future version.\n",
      "Instructions for updating:\n",
      "Colocations handled automatically by placer.\n"
     ]
    }
   ],
   "source": [
    "#CNN建置卷積層方式-Conv2D\n",
    "#filters: 輸出feature map 的數量\n",
    "#kernel_size(卷積核): 一般設定為奇數，如: 3x3或5x5\n",
    "#strides:卷積核位移幅度\n",
    "#activation:每層的激活函數\n",
    "\n",
    "#因為一旦經過卷積，圖片尺寸就會慢慢縮小，如果不想變小尺寸\n",
    "#padding=same: 圖片周圍使用零來填充，讓輸入值與輸出值的尺寸相等\n",
    "#padding=valid: 不以零填充\n",
    "\n",
    "from tensorflow.python.keras.layers import Conv2D\n",
    "\n",
    "\n",
    "#第一層\n",
    "model.add(\n",
    "    Conv2D(\n",
    "        filters=32,\n",
    "        input_shape=(32, 32, 3),\n",
    "        kernel_size=(3, 3),\n",
    "        strides=(1, 1),\n",
    "        padding='same',\n",
    "        activation='relu'\n",
    "    )\n",
    ")\n",
    "\n",
    "#第二層\n",
    "model.add(\n",
    "    Conv2D(\n",
    "        filters=32,\n",
    "        kernel_size=(3, 3),\n",
    "        strides=(1, 1),\n",
    "        padding='same',\n",
    "        activation='relu'\n",
    "    )\n",
    ")"
   ]
  },
  {
   "cell_type": "code",
   "execution_count": 6,
   "metadata": {},
   "outputs": [],
   "source": [
    "#池化層\n",
    "#池化層(2X2)\n",
    "\n",
    "from tensorflow.python.keras.layers import MaxPooling2D\n",
    "\n",
    "\n",
    "model.add(MaxPooling2D(pool_size=(2, 2)))"
   ]
  },
  {
   "cell_type": "code",
   "execution_count": 7,
   "metadata": {},
   "outputs": [
    {
     "name": "stdout",
     "output_type": "stream",
     "text": [
      "WARNING:tensorflow:From C:\\Users\\gpu\\Anaconda3\\envs\\keras\\lib\\site-packages\\tensorflow\\python\\keras\\layers\\core.py:143: calling dropout (from tensorflow.python.ops.nn_ops) with keep_prob is deprecated and will be removed in a future version.\n",
      "Instructions for updating:\n",
      "Please use `rate` instead of `keep_prob`. Rate should be set to `rate = 1 - keep_prob`.\n"
     ]
    }
   ],
   "source": [
    "#隨機地讓各層中的某些神經元失效\n",
    "#抑制參數過多，可能造成準確度問題(過擬合)\n",
    "#讓25%的神經元失效(不計算)\n",
    "\n",
    "from tensorflow.python.keras.layers import Dropout\n",
    "\n",
    "\n",
    "model.add(Dropout(0.25))"
   ]
  },
  {
   "cell_type": "code",
   "execution_count": 8,
   "metadata": {},
   "outputs": [],
   "source": [
    "#第三層\n",
    "model.add(\n",
    "    Conv2D(\n",
    "        filters=64,\n",
    "        kernel_size=(3, 3),\n",
    "        strides=(1, 1),\n",
    "        padding='same',\n",
    "        activation='relu'\n",
    "    )\n",
    ")\n",
    "\n",
    "#第四層\n",
    "model.add(\n",
    "    Conv2D(\n",
    "        filters=64,\n",
    "        kernel_size=(3, 3),\n",
    "        strides=(1, 1),\n",
    "        padding='same',\n",
    "        activation='relu'\n",
    "    )\n",
    ")\n",
    "\n",
    "#池化層與dropout\n",
    "model.add(MaxPooling2D(pool_size=(2, 2)))\n",
    "model.add(Dropout(0.25))"
   ]
  },
  {
   "cell_type": "code",
   "execution_count": 9,
   "metadata": {},
   "outputs": [
    {
     "data": {
      "text/plain": [
       "(None, 8, 8, 64)"
      ]
     },
     "execution_count": 9,
     "metadata": {},
     "output_type": "execute_result"
    }
   ],
   "source": [
    "#確認到目前為止，模型輸出的大小\n",
    "#因為接下來要接Fully Connection，因此要確定大小\n",
    "#輸出結果格式為四維的張量，分別是: 資料筆數、長、寬、色版\n",
    "\n",
    "#Fully Connection只能接收二維格式的張量，因此要轉換一下\n",
    "\n",
    "\n",
    "model.output_shape"
   ]
  },
  {
   "cell_type": "code",
   "execution_count": 10,
   "metadata": {},
   "outputs": [
    {
     "data": {
      "text/plain": [
       "(None, 4096)"
      ]
     },
     "execution_count": 10,
     "metadata": {},
     "output_type": "execute_result"
    }
   ],
   "source": [
    "#新增一層為Flatten層，準備與Fully Connection相接\n",
    "#透過flatten方法轉換\n",
    "\n",
    "from tensorflow.python.keras.layers import Flatten\n",
    "\n",
    "\n",
    "model.add(Flatten())\n",
    "model.output_shape"
   ]
  },
  {
   "cell_type": "code",
   "execution_count": 11,
   "metadata": {},
   "outputs": [],
   "source": [
    "#新增Fully Connection層\n",
    "\n",
    "\n",
    "from tensorflow.python.keras.layers import Dense\n",
    "\n",
    "\n",
    "model.add(Dense(units=512, activation='relu'))\n",
    "model.add(Dropout(0.5))\n",
    "model.add(Dense(units=10, activation='softmax'))"
   ]
  },
  {
   "cell_type": "code",
   "execution_count": 12,
   "metadata": {},
   "outputs": [
    {
     "name": "stdout",
     "output_type": "stream",
     "text": [
      "Train on 40000 samples, validate on 10000 samples\n",
      "WARNING:tensorflow:From C:\\Users\\gpu\\Anaconda3\\envs\\keras\\lib\\site-packages\\tensorflow\\python\\ops\\math_ops.py:3066: to_int32 (from tensorflow.python.ops.math_ops) is deprecated and will be removed in a future version.\n",
      "Instructions for updating:\n",
      "Use tf.cast instead.\n",
      "Epoch 1/20\n",
      "40000/40000 [==============================] - 31s 785us/sample - loss: 1.5683 - acc: 0.4290 - val_loss: 1.2143 - val_acc: 0.5682\n",
      "Epoch 2/20\n",
      "40000/40000 [==============================] - 28s 696us/sample - loss: 1.1458 - acc: 0.5895 - val_loss: 0.9526 - val_acc: 0.6651\n",
      "Epoch 3/20\n",
      "40000/40000 [==============================] - 28s 692us/sample - loss: 0.9856 - acc: 0.6512 - val_loss: 0.8537 - val_acc: 0.7016\n",
      "Epoch 4/20\n",
      "40000/40000 [==============================] - 27s 684us/sample - loss: 0.8854 - acc: 0.6868 - val_loss: 0.8997 - val_acc: 0.6907\n",
      "Epoch 5/20\n",
      "40000/40000 [==============================] - 28s 701us/sample - loss: 0.8093 - acc: 0.7163 - val_loss: 0.7697 - val_acc: 0.7330\n",
      "Epoch 6/20\n",
      "40000/40000 [==============================] - 29s 714us/sample - loss: 0.7565 - acc: 0.7332 - val_loss: 0.7156 - val_acc: 0.7529\n",
      "Epoch 7/20\n",
      "40000/40000 [==============================] - 29s 735us/sample - loss: 0.7098 - acc: 0.7520 - val_loss: 0.6987 - val_acc: 0.7571\n",
      "Epoch 8/20\n",
      "40000/40000 [==============================] - 28s 711us/sample - loss: 0.6686 - acc: 0.7631 - val_loss: 0.6913 - val_acc: 0.7631\n",
      "Epoch 9/20\n",
      "40000/40000 [==============================] - 28s 706us/sample - loss: 0.6373 - acc: 0.7757 - val_loss: 0.6934 - val_acc: 0.7654\n",
      "Epoch 10/20\n",
      "40000/40000 [==============================] - 28s 697us/sample - loss: 0.6068 - acc: 0.7850 - val_loss: 0.6740 - val_acc: 0.7745\n",
      "Epoch 11/20\n",
      "40000/40000 [==============================] - 28s 709us/sample - loss: 0.5700 - acc: 0.7998 - val_loss: 0.6932 - val_acc: 0.7668\n",
      "Epoch 12/20\n",
      "40000/40000 [==============================] - 29s 722us/sample - loss: 0.5566 - acc: 0.8003 - val_loss: 0.6674 - val_acc: 0.7712\n",
      "Epoch 13/20\n",
      "40000/40000 [==============================] - 29s 721us/sample - loss: 0.5278 - acc: 0.8134 - val_loss: 0.6666 - val_acc: 0.7774\n",
      "Epoch 14/20\n",
      "40000/40000 [==============================] - 29s 714us/sample - loss: 0.5112 - acc: 0.8189 - val_loss: 0.6667 - val_acc: 0.7795\n",
      "Epoch 15/20\n",
      "40000/40000 [==============================] - 29s 725us/sample - loss: 0.4856 - acc: 0.8307 - val_loss: 0.6836 - val_acc: 0.7737\n",
      "Epoch 16/20\n",
      "40000/40000 [==============================] - 29s 715us/sample - loss: 0.4772 - acc: 0.8319 - val_loss: 0.6781 - val_acc: 0.7819\n",
      "Epoch 17/20\n",
      "40000/40000 [==============================] - 28s 711us/sample - loss: 0.4569 - acc: 0.8376 - val_loss: 0.6738 - val_acc: 0.7832\n",
      "Epoch 18/20\n",
      "40000/40000 [==============================] - 29s 715us/sample - loss: 0.4436 - acc: 0.8442 - val_loss: 0.7004 - val_acc: 0.7760\n",
      "Epoch 19/20\n",
      "40000/40000 [==============================] - 29s 720us/sample - loss: 0.4291 - acc: 0.8478 - val_loss: 0.6976 - val_acc: 0.7822\n",
      "Epoch 20/20\n",
      "40000/40000 [==============================] - 29s 718us/sample - loss: 0.4120 - acc: 0.8543 - val_loss: 0.7191 - val_acc: 0.7796\n"
     ]
    }
   ],
   "source": [
    "from tensorflow.python.keras.callbacks import TensorBoard\n",
    "\n",
    "\n",
    "model.compile(\n",
    "    optimizer='adam',\n",
    "    loss='categorical_crossentropy',\n",
    "    metrics=['accuracy']\n",
    ")\n",
    "tsb = TensorBoard(log_dir='cifar')\n",
    "history_model1 = model.fit(\n",
    "    x_train,\n",
    "    y_train,\n",
    "    batch_size=32,\n",
    "    epochs=20,\n",
    "    validation_split=0.2,\n",
    "    callbacks=[tsb]\n",
    ")"
   ]
  },
  {
   "cell_type": "code",
   "execution_count": 13,
   "metadata": {},
   "outputs": [
    {
     "name": "stdout",
     "output_type": "stream",
     "text": [
      "_________________________________________________________________\n",
      "Layer (type)                 Output Shape              Param #   \n",
      "=================================================================\n",
      "conv2d (Conv2D)              (None, 32, 32, 32)        896       \n",
      "_________________________________________________________________\n",
      "conv2d_1 (Conv2D)            (None, 32, 32, 32)        9248      \n",
      "_________________________________________________________________\n",
      "max_pooling2d (MaxPooling2D) (None, 16, 16, 32)        0         \n",
      "_________________________________________________________________\n",
      "dropout (Dropout)            (None, 16, 16, 32)        0         \n",
      "_________________________________________________________________\n",
      "conv2d_2 (Conv2D)            (None, 16, 16, 64)        18496     \n",
      "_________________________________________________________________\n",
      "conv2d_3 (Conv2D)            (None, 16, 16, 64)        36928     \n",
      "_________________________________________________________________\n",
      "max_pooling2d_1 (MaxPooling2 (None, 8, 8, 64)          0         \n",
      "_________________________________________________________________\n",
      "dropout_1 (Dropout)          (None, 8, 8, 64)          0         \n",
      "_________________________________________________________________\n",
      "flatten (Flatten)            (None, 4096)              0         \n",
      "_________________________________________________________________\n",
      "dense (Dense)                (None, 512)               2097664   \n",
      "_________________________________________________________________\n",
      "dropout_2 (Dropout)          (None, 512)               0         \n",
      "_________________________________________________________________\n",
      "dense_1 (Dense)              (None, 10)                5130      \n",
      "=================================================================\n",
      "Total params: 2,168,362\n",
      "Trainable params: 2,168,362\n",
      "Non-trainable params: 0\n",
      "_________________________________________________________________\n"
     ]
    }
   ],
   "source": [
    "#檢視整體網路狀態\n",
    "\n",
    "model.summary()"
   ]
  },
  {
   "cell_type": "code",
   "execution_count": 14,
   "metadata": {},
   "outputs": [
    {
     "data": {
      "text/plain": [
       "0.7719"
      ]
     },
     "execution_count": 14,
     "metadata": {},
     "output_type": "execute_result"
    }
   ],
   "source": [
    "#模型準確率\n",
    "\n",
    "score=model.evaluate(x_test,y_test,verbose=0)\n",
    "score[1]"
   ]
  },
  {
   "cell_type": "code",
   "execution_count": 15,
   "metadata": {},
   "outputs": [],
   "source": [
    "#進行預測\n",
    "\n",
    "pred=model.predict_classes(x_test)"
   ]
  },
  {
   "cell_type": "code",
   "execution_count": 16,
   "metadata": {},
   "outputs": [
    {
     "data": {
      "text/plain": [
       "array([3, 8, 0, 0, 6, 6, 1, 6, 3, 1], dtype=int64)"
      ]
     },
     "execution_count": 16,
     "metadata": {},
     "output_type": "execute_result"
    }
   ],
   "source": [
    "#前10筆預測結果分類值\n",
    "#第一張測試圖片，分類結果為第三類\n",
    "#第二張測試圖片，分類結果為第八類\n",
    "\n",
    "pred[:10]"
   ]
  },
  {
   "cell_type": "code",
   "execution_count": 17,
   "metadata": {},
   "outputs": [],
   "source": [
    "#定義畫圖函數\n",
    "\n",
    "import matplotlib.pyplot as plt\n",
    "def plot_images_labels_prediction(images,labels,prediction,idx,num=10):\n",
    "    fig = plt.gcf()\n",
    "    fig.set_size_inches(12, 14)\n",
    "    if num>25: num=25 \n",
    "    for i in range(0, num):\n",
    "        ax=plt.subplot(5,5, 1+i)\n",
    "        ax.imshow(images[idx],cmap='binary')\n",
    "        \n",
    "        #抓出對應的label\n",
    "        a=[i for i, x in enumerate(y_test[i]==1.0) if x]\n",
    "        title=str(i)+',lab:'+label_dict[a[0]]\n",
    "        if len(prediction)>0:\n",
    "            title+='=>pre:'+label_dict[prediction[i]]\n",
    "            \n",
    "        ax.set_title(title,fontsize=10) \n",
    "        ax.set_xticks([]);ax.set_yticks([])        \n",
    "        idx+=1 \n",
    "    plt.show()"
   ]
  },
  {
   "cell_type": "code",
   "execution_count": 18,
   "metadata": {},
   "outputs": [
    {
     "data": {
      "image/png": "[encoded data removed]",
      "text/plain": [
       "<Figure size 864x1008 with 10 Axes>"
      ]
     },
     "metadata": {},
     "output_type": "display_data"
    }
   ],
   "source": [
    "plot_images_labels_prediction(x_test,y_test, pred,0,10)"
   ]
  },
  {
   "cell_type": "code",
   "execution_count": 19,
   "metadata": {},
   "outputs": [],
   "source": [
    "#預測每個類別之機率狀況\n",
    "import numpy as np\n",
    "\n",
    "Predicted_Probability=model.predict(x_test)\n",
    "\n",
    "def show_Predicted_Probability(y,prediction, x_img,Predicted_Probability,i):\n",
    "    a=[i for i, x in enumerate(y[i]==1.0) if x]\n",
    "    print('label:',label_dict[a[0]], 'predict:',label_dict[prediction[i]])\n",
    "    plt.figure(figsize=(2,2))\n",
    "    plt.imshow(np.reshape(x_test[i],(32, 32,3)))\n",
    "    plt.show()\n",
    "    for j in range(10):\n",
    "        print(label_dict[j]+\n",
    "              ' Probability:%1.9f'%(Predicted_Probability[i][j]))"
   ]
  },
  {
   "cell_type": "code",
   "execution_count": 20,
   "metadata": {},
   "outputs": [
    {
     "name": "stdout",
     "output_type": "stream",
     "text": [
      "label: cat predict: cat\n"
     ]
    },
    {
     "data": {
      "image/png": "[encoded data removed]",
      "text/plain": [
       "<Figure size 144x144 with 1 Axes>"
      ]
     },
     "metadata": {
      "needs_background": "light"
     },
     "output_type": "display_data"
    },
    {
     "name": "stdout",
     "output_type": "stream",
     "text": [
      "airplane Probability:0.000005360\n",
      "automobile Probability:0.000000892\n",
      "bird Probability:0.000026650\n",
      "cat Probability:0.981808484\n",
      "deer Probability:0.000000085\n",
      "dog Probability:0.018112602\n",
      "frog Probability:0.000015805\n",
      "horse Probability:0.000000634\n",
      "ship Probability:0.000029504\n",
      "truck Probability:0.000000006\n"
     ]
    }
   ],
   "source": [
    "#原本是貓，預測結果最高的也是貓，次高是狗\n",
    "show_Predicted_Probability(y_test,pred,\n",
    "                           x_test,Predicted_Probability,0)"
   ]
  },
  {
   "cell_type": "code",
   "execution_count": 21,
   "metadata": {},
   "outputs": [
    {
     "name": "stdout",
     "output_type": "stream",
     "text": [
      "label: ship predict: ship\n"
     ]
    },
    {
     "data": {
      "image/png": "[encoded data removed]",
      "text/plain": [
       "<Figure size 144x144 with 1 Axes>"
      ]
     },
     "metadata": {
      "needs_background": "light"
     },
     "output_type": "display_data"
    },
    {
     "name": "stdout",
     "output_type": "stream",
     "text": [
      "airplane Probability:0.000042832\n",
      "automobile Probability:0.003254163\n",
      "bird Probability:0.000000000\n",
      "cat Probability:0.000000001\n",
      "deer Probability:0.000000000\n",
      "dog Probability:0.000000000\n",
      "frog Probability:0.000000000\n",
      "horse Probability:0.000000000\n",
      "ship Probability:0.996700704\n",
      "truck Probability:0.000002305\n"
     ]
    }
   ],
   "source": [
    "#原本是船，預測結果最高的也是船\n",
    "show_Predicted_Probability(y_test,pred,\n",
    "                           x_test,Predicted_Probability,1)"
   ]
  },
  {
   "cell_type": "code",
   "execution_count": 22,
   "metadata": {},
   "outputs": [
    {
     "name": "stdout",
     "output_type": "stream",
     "text": [
      "(10000,)\n",
      "(10000, 10)\n"
     ]
    }
   ],
   "source": [
    "#混淆矩陣\n",
    "#查看原有測試資料\n",
    "\n",
    "print(pred.shape)\n",
    "print(y_test.shape)"
   ]
  },
  {
   "cell_type": "code",
   "execution_count": 23,
   "metadata": {},
   "outputs": [],
   "source": [
    "#因為測試資料集y_test不符合我們需求\n",
    "#需要改成一維陣列\n",
    "#我們希望變成跟pred結果一樣，因為要放入dataframe裡面\n",
    "\n",
    "\n",
    "y_test_new=[]\n",
    "for i in range(0,len(y_test)):\n",
    "    a=[i for i, x in enumerate(y_test[i]==1.0) if x]\n",
    "    y_test_new.append(a)\n",
    "y_test_new=np.array(y_test_new)\n",
    "y_test_new=y_test_new.reshape(-1)"
   ]
  },
  {
   "cell_type": "code",
   "execution_count": 24,
   "metadata": {},
   "outputs": [
    {
     "name": "stdout",
     "output_type": "stream",
     "text": [
      "{0: 'airplane', 1: 'automobile', 2: 'bird', 3: 'cat', 4: 'deer', 5: 'dog', 6: 'frog', 7: 'horse', 8: 'ship', 9: 'truck'}\n"
     ]
    },
    {
     "data": {
      "text/html": [
       "<div>\n",
       "<style scoped>\n",
       "    .dataframe tbody tr th:only-of-type {\n",
       "        vertical-align: middle;\n",
       "    }\n",
       "\n",
       "    .dataframe tbody tr th {\n",
       "        vertical-align: top;\n",
       "    }\n",
       "\n",
       "    .dataframe thead th {\n",
       "        text-align: right;\n",
       "    }\n",
       "</style>\n",
       "<table border=\"1\" class=\"dataframe\">\n",
       "  <thead>\n",
       "    <tr style=\"text-align: right;\">\n",
       "      <th>predict</th>\n",
       "      <th>0</th>\n",
       "      <th>1</th>\n",
       "      <th>2</th>\n",
       "      <th>3</th>\n",
       "      <th>4</th>\n",
       "      <th>5</th>\n",
       "      <th>6</th>\n",
       "      <th>7</th>\n",
       "      <th>8</th>\n",
       "      <th>9</th>\n",
       "    </tr>\n",
       "    <tr>\n",
       "      <th>label</th>\n",
       "      <th></th>\n",
       "      <th></th>\n",
       "      <th></th>\n",
       "      <th></th>\n",
       "      <th></th>\n",
       "      <th></th>\n",
       "      <th></th>\n",
       "      <th></th>\n",
       "      <th></th>\n",
       "      <th></th>\n",
       "    </tr>\n",
       "  </thead>\n",
       "  <tbody>\n",
       "    <tr>\n",
       "      <th>0</th>\n",
       "      <td>839</td>\n",
       "      <td>8</td>\n",
       "      <td>41</td>\n",
       "      <td>24</td>\n",
       "      <td>7</td>\n",
       "      <td>8</td>\n",
       "      <td>5</td>\n",
       "      <td>12</td>\n",
       "      <td>33</td>\n",
       "      <td>23</td>\n",
       "    </tr>\n",
       "    <tr>\n",
       "      <th>1</th>\n",
       "      <td>16</td>\n",
       "      <td>898</td>\n",
       "      <td>2</td>\n",
       "      <td>9</td>\n",
       "      <td>2</td>\n",
       "      <td>6</td>\n",
       "      <td>4</td>\n",
       "      <td>2</td>\n",
       "      <td>20</td>\n",
       "      <td>41</td>\n",
       "    </tr>\n",
       "    <tr>\n",
       "      <th>2</th>\n",
       "      <td>55</td>\n",
       "      <td>2</td>\n",
       "      <td>657</td>\n",
       "      <td>70</td>\n",
       "      <td>50</td>\n",
       "      <td>91</td>\n",
       "      <td>42</td>\n",
       "      <td>20</td>\n",
       "      <td>6</td>\n",
       "      <td>7</td>\n",
       "    </tr>\n",
       "    <tr>\n",
       "      <th>3</th>\n",
       "      <td>18</td>\n",
       "      <td>2</td>\n",
       "      <td>57</td>\n",
       "      <td>658</td>\n",
       "      <td>28</td>\n",
       "      <td>156</td>\n",
       "      <td>44</td>\n",
       "      <td>24</td>\n",
       "      <td>5</td>\n",
       "      <td>8</td>\n",
       "    </tr>\n",
       "    <tr>\n",
       "      <th>4</th>\n",
       "      <td>22</td>\n",
       "      <td>2</td>\n",
       "      <td>60</td>\n",
       "      <td>100</td>\n",
       "      <td>653</td>\n",
       "      <td>57</td>\n",
       "      <td>42</td>\n",
       "      <td>57</td>\n",
       "      <td>6</td>\n",
       "      <td>1</td>\n",
       "    </tr>\n",
       "    <tr>\n",
       "      <th>5</th>\n",
       "      <td>11</td>\n",
       "      <td>2</td>\n",
       "      <td>31</td>\n",
       "      <td>187</td>\n",
       "      <td>27</td>\n",
       "      <td>697</td>\n",
       "      <td>17</td>\n",
       "      <td>25</td>\n",
       "      <td>1</td>\n",
       "      <td>2</td>\n",
       "    </tr>\n",
       "    <tr>\n",
       "      <th>6</th>\n",
       "      <td>6</td>\n",
       "      <td>2</td>\n",
       "      <td>30</td>\n",
       "      <td>95</td>\n",
       "      <td>13</td>\n",
       "      <td>36</td>\n",
       "      <td>807</td>\n",
       "      <td>2</td>\n",
       "      <td>7</td>\n",
       "      <td>2</td>\n",
       "    </tr>\n",
       "    <tr>\n",
       "      <th>7</th>\n",
       "      <td>13</td>\n",
       "      <td>0</td>\n",
       "      <td>29</td>\n",
       "      <td>35</td>\n",
       "      <td>32</td>\n",
       "      <td>66</td>\n",
       "      <td>1</td>\n",
       "      <td>818</td>\n",
       "      <td>4</td>\n",
       "      <td>2</td>\n",
       "    </tr>\n",
       "    <tr>\n",
       "      <th>8</th>\n",
       "      <td>73</td>\n",
       "      <td>16</td>\n",
       "      <td>16</td>\n",
       "      <td>14</td>\n",
       "      <td>4</td>\n",
       "      <td>8</td>\n",
       "      <td>3</td>\n",
       "      <td>2</td>\n",
       "      <td>851</td>\n",
       "      <td>13</td>\n",
       "    </tr>\n",
       "    <tr>\n",
       "      <th>9</th>\n",
       "      <td>30</td>\n",
       "      <td>58</td>\n",
       "      <td>3</td>\n",
       "      <td>26</td>\n",
       "      <td>1</td>\n",
       "      <td>6</td>\n",
       "      <td>2</td>\n",
       "      <td>13</td>\n",
       "      <td>20</td>\n",
       "      <td>841</td>\n",
       "    </tr>\n",
       "  </tbody>\n",
       "</table>\n",
       "</div>"
      ],
      "text/plain": [
       "predict    0    1    2    3    4    5    6    7    8    9\n",
       "label                                                    \n",
       "0        839    8   41   24    7    8    5   12   33   23\n",
       "1         16  898    2    9    2    6    4    2   20   41\n",
       "2         55    2  657   70   50   91   42   20    6    7\n",
       "3         18    2   57  658   28  156   44   24    5    8\n",
       "4         22    2   60  100  653   57   42   57    6    1\n",
       "5         11    2   31  187   27  697   17   25    1    2\n",
       "6          6    2   30   95   13   36  807    2    7    2\n",
       "7         13    0   29   35   32   66    1  818    4    2\n",
       "8         73   16   16   14    4    8    3    2  851   13\n",
       "9         30   58    3   26    1    6    2   13   20  841"
      ]
     },
     "execution_count": 24,
     "metadata": {},
     "output_type": "execute_result"
    }
   ],
   "source": [
    "import pandas as pd\n",
    "\n",
    "print(label_dict)\n",
    "pd.crosstab(y_test_new,pred,\n",
    "            rownames=['label'],colnames=['predict'])"
   ]
  },
  {
   "cell_type": "code",
   "execution_count": 28,
   "metadata": {},
   "outputs": [
    {
     "name": "stdout",
     "output_type": "stream",
     "text": [
      "model saved\n"
     ]
    }
   ],
   "source": [
    "#儲存模型\n",
    "\n",
    "model.save(\"cifar.h5\")\n",
    "print(\"model saved\")"
   ]
  },
  {
   "cell_type": "code",
   "execution_count": 32,
   "metadata": {
    "scrolled": true
   },
   "outputs": [
    {
     "name": "stdout",
     "output_type": "stream",
     "text": [
      "<keras.engine.sequential.Sequential object at 0x0000000005F69A20>\n"
     ]
    }
   ],
   "source": [
    "#讀取模型\n",
    "\n",
    "from keras.models import load_model\n",
    "from keras.utils import CustomObjectScope\n",
    "from keras.initializers import glorot_uniform\n",
    "\n",
    "with CustomObjectScope({'GlorotUniform': glorot_uniform()}):\n",
    "    model = load_model('cifar.h5')\n",
    "\n",
    "print(model)"
   ]
  },
  {
   "cell_type": "code",
   "execution_count": null,
   "metadata": {},
   "outputs": [],
   "source": []
  }
 ],
 "metadata": {
  "kernelspec": {
   "display_name": "Python 3",
   "language": "python",
   "name": "python3"
  },
  "language_info": {
   "codemirror_mode": {
    "name": "ipython",
    "version": 3
   },
   "file_extension": ".py",
   "mimetype": "text/x-python",
   "name": "python",
   "nbconvert_exporter": "python",
   "pygments_lexer": "ipython3",
   "version": "3.7.1"
  }
 },
 "nbformat": 4,
 "nbformat_minor": 2
}
