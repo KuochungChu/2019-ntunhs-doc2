{
 "cells": [
  {
   "cell_type": "code",
   "execution_count": 1,
   "metadata": {},
   "outputs": [],
   "source": [
    "from tensorflow.python.keras.datasets import mnist\n",
    "from tensorflow.python.keras.utils import to_categorical\n",
    "from tensorflow.python.keras.callbacks import TensorBoard\n",
    "from tensorflow.python.keras.layers import Input, Dense\n",
    "from tensorflow.python.keras.models import Model\n",
    "\n",
    "\n",
    "(x_train, y_train), (x_test, y_test) = mnist.load_data()\n",
    "x_train = x_train.reshape(60000, 784)\n",
    "x_train = x_train/255.\n",
    "x_test = x_test.reshape(10000, 784)\n",
    "x_test = x_test/255.\n",
    "y_train = to_categorical(y_train, 10)\n",
    "y_test = to_categorical(y_test, 10)\n",
    "tsb = TensorBoard(log_dir='mnist1')"
   ]
  },
  {
   "cell_type": "code",
   "execution_count": 2,
   "metadata": {},
   "outputs": [
    {
     "name": "stdout",
     "output_type": "stream",
     "text": [
      "WARNING:tensorflow:From C:\\Users\\gpu\\Anaconda3\\envs\\keras\\lib\\site-packages\\tensorflow\\python\\ops\\resource_variable_ops.py:435: colocate_with (from tensorflow.python.framework.ops) is deprecated and will be removed in a future version.\n",
      "Instructions for updating:\n",
      "Colocations handled automatically by placer.\n"
     ]
    }
   ],
   "source": [
    "input = Input(shape=(784, ))\n",
    "middle = Dense(units=64, activation='relu')(input)\n",
    "output = Dense(units=10, activation='softmax')(middle)\n",
    "model = Model(inputs=[input], outputs=[output])"
   ]
  },
  {
   "cell_type": "code",
   "execution_count": 3,
   "metadata": {},
   "outputs": [],
   "source": [
    "model.compile(\n",
    "    optimizer='adam',\n",
    "    loss='categorical_crossentropy',\n",
    "    metrics=['accuracy']\n",
    ")"
   ]
  },
  {
   "cell_type": "code",
   "execution_count": 4,
   "metadata": {},
   "outputs": [
    {
     "name": "stdout",
     "output_type": "stream",
     "text": [
      "Train on 48000 samples, validate on 12000 samples\n",
      "WARNING:tensorflow:From C:\\Users\\gpu\\Anaconda3\\envs\\keras\\lib\\site-packages\\tensorflow\\python\\ops\\math_ops.py:3066: to_int32 (from tensorflow.python.ops.math_ops) is deprecated and will be removed in a future version.\n",
      "Instructions for updating:\n",
      "Use tf.cast instead.\n",
      "Epoch 1/20\n",
      "48000/48000 [==============================] - 9s 182us/sample - loss: 0.3309 - acc: 0.9071 - val_loss: 0.1849 - val_acc: 0.9492\n",
      "Epoch 2/20\n",
      "48000/48000 [==============================] - 7s 150us/sample - loss: 0.1588 - acc: 0.9554 - val_loss: 0.1406 - val_acc: 0.9613\n",
      "Epoch 3/20\n",
      "48000/48000 [==============================] - 7s 149us/sample - loss: 0.1157 - acc: 0.9665 - val_loss: 0.1299 - val_acc: 0.9627\n",
      "Epoch 4/20\n",
      "48000/48000 [==============================] - 8s 169us/sample - loss: 0.0898 - acc: 0.9729 - val_loss: 0.1121 - val_acc: 0.9668\n",
      "Epoch 5/20\n",
      "48000/48000 [==============================] - 8s 170us/sample - loss: 0.0748 - acc: 0.9782 - val_loss: 0.1041 - val_acc: 0.9683\n",
      "Epoch 6/20\n",
      "48000/48000 [==============================] - 9s 181us/sample - loss: 0.0615 - acc: 0.9816 - val_loss: 0.1083 - val_acc: 0.9681\n",
      "Epoch 7/20\n",
      "48000/48000 [==============================] - 8s 165us/sample - loss: 0.0518 - acc: 0.9846 - val_loss: 0.1018 - val_acc: 0.9697\n",
      "Epoch 8/20\n",
      "48000/48000 [==============================] - 8s 171us/sample - loss: 0.0440 - acc: 0.9869 - val_loss: 0.0969 - val_acc: 0.9719\n",
      "Epoch 9/20\n",
      "48000/48000 [==============================] - 9s 184us/sample - loss: 0.0380 - acc: 0.9885 - val_loss: 0.0989 - val_acc: 0.9719\n",
      "Epoch 10/20\n",
      "48000/48000 [==============================] - 8s 161us/sample - loss: 0.0319 - acc: 0.9903 - val_loss: 0.1028 - val_acc: 0.9704\n",
      "Epoch 11/20\n",
      "48000/48000 [==============================] - 8s 161us/sample - loss: 0.0279 - acc: 0.9917 - val_loss: 0.0981 - val_acc: 0.9728\n",
      "Epoch 12/20\n",
      "48000/48000 [==============================] - 8s 166us/sample - loss: 0.0250 - acc: 0.9925 - val_loss: 0.1086 - val_acc: 0.9698\n",
      "Epoch 13/20\n",
      "48000/48000 [==============================] - 7s 153us/sample - loss: 0.0203 - acc: 0.9946 - val_loss: 0.1155 - val_acc: 0.9689\n",
      "Epoch 14/20\n",
      "48000/48000 [==============================] - 9s 178us/sample - loss: 0.0185 - acc: 0.9948 - val_loss: 0.1059 - val_acc: 0.9735\n",
      "Epoch 15/20\n",
      "48000/48000 [==============================] - 9s 188us/sample - loss: 0.0165 - acc: 0.9955 - val_loss: 0.1018 - val_acc: 0.9737\n",
      "Epoch 16/20\n",
      "48000/48000 [==============================] - 8s 172us/sample - loss: 0.0145 - acc: 0.9959 - val_loss: 0.1099 - val_acc: 0.9721\n",
      "Epoch 17/20\n",
      "48000/48000 [==============================] - 8s 177us/sample - loss: 0.0125 - acc: 0.9963 - val_loss: 0.1098 - val_acc: 0.9732\n",
      "Epoch 18/20\n",
      "48000/48000 [==============================] - 9s 180us/sample - loss: 0.0123 - acc: 0.9965 - val_loss: 0.1157 - val_acc: 0.9699\n",
      "Epoch 19/20\n",
      "48000/48000 [==============================] - 8s 165us/sample - loss: 0.0098 - acc: 0.9971 - val_loss: 0.1197 - val_acc: 0.9725\n",
      "Epoch 20/20\n",
      "48000/48000 [==============================] - 8s 157us/sample - loss: 0.0080 - acc: 0.9982 - val_loss: 0.1184 - val_acc: 0.9728\n"
     ]
    },
    {
     "data": {
      "text/plain": [
       "<tensorflow.python.keras.callbacks.History at 0x714aa90>"
      ]
     },
     "execution_count": 4,
     "metadata": {},
     "output_type": "execute_result"
    }
   ],
   "source": [
    "model.fit(\n",
    "    x_train,\n",
    "    y_train,\n",
    "    batch_size=32,\n",
    "    epochs=20,\n",
    "    callbacks=[tsb],\n",
    "    validation_split=0.2\n",
    ")"
   ]
  },
  {
   "cell_type": "code",
   "execution_count": null,
   "metadata": {},
   "outputs": [],
   "source": []
  }
 ],
 "metadata": {
  "kernelspec": {
   "display_name": "Python 3",
   "language": "python",
   "name": "python3"
  },
  "language_info": {
   "codemirror_mode": {
    "name": "ipython",
    "version": 3
   },
   "file_extension": ".py",
   "mimetype": "text/x-python",
   "name": "python",
   "nbconvert_exporter": "python",
   "pygments_lexer": "ipython3",
   "version": "3.7.1"
  }
 },
 "nbformat": 4,
 "nbformat_minor": 2
}
