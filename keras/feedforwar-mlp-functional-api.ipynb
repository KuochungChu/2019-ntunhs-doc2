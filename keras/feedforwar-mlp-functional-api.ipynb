{
 "cells": [
  {
   "cell_type": "code",
   "execution_count": 1,
   "metadata": {},
   "outputs": [],
   "source": [
    "from tensorflow.python.keras.datasets import mnist\n",
    "from tensorflow.python.keras.utils import to_categorical\n",
    "from tensorflow.python.keras.callbacks import TensorBoard\n",
    "from tensorflow.python.keras.layers import Input, Dense\n",
    "from tensorflow.python.keras.models import Model\n",
    "\n",
    "\n",
    "(x_train, y_train), (x_test, y_test) = mnist.load_data()\n",
    "x_train = x_train.reshape(60000, 784)\n",
    "x_train = x_train/255.\n",
    "x_test = x_test.reshape(10000, 784)\n",
    "x_test = x_test/255.\n",
    "y_train = to_categorical(y_train, 10)\n",
    "y_test = to_categorical(y_test, 10)\n",
    "tsb = TensorBoard(log_dir='mnist1')"
   ]
  },
  {
   "cell_type": "code",
   "execution_count": 2,
   "metadata": {},
   "outputs": [
    {
     "name": "stdout",
     "output_type": "stream",
     "text": [
      "WARNING:tensorflow:From C:\\Users\\gpu\\Anaconda3\\envs\\keras\\lib\\site-packages\\tensorflow\\python\\ops\\resource_variable_ops.py:435: colocate_with (from tensorflow.python.framework.ops) is deprecated and will be removed in a future version.\n",
      "Instructions for updating:\n",
      "Colocations handled automatically by placer.\n"
     ]
    }
   ],
   "source": [
    "input = Input(shape=(784, ))\n",
    "middle = Dense(units=64, activation='relu')(input)\n",
    "output = Dense(units=10, activation='softmax')(middle)\n",
    "model = Model(inputs=[input], outputs=[output])"
   ]
  },
  {
   "cell_type": "code",
   "execution_count": 3,
   "metadata": {},
   "outputs": [],
   "source": [
    "model.compile(\n",
    "    optimizer='adam',\n",
    "    loss='categorical_crossentropy',\n",
    "    metrics=['accuracy']\n",
    ")"
   ]
  },
  {
   "cell_type": "code",
   "execution_count": 4,
   "metadata": {},
   "outputs": [
    {
     "name": "stdout",
     "output_type": "stream",
     "text": [
      "Train on 48000 samples, validate on 12000 samples\n",
      "WARNING:tensorflow:From C:\\Users\\gpu\\Anaconda3\\envs\\keras\\lib\\site-packages\\tensorflow\\python\\ops\\math_ops.py:3066: to_int32 (from tensorflow.python.ops.math_ops) is deprecated and will be removed in a future version.\n",
      "Instructions for updating:\n",
      "Use tf.cast instead.\n",
      "Epoch 1/20\n",
      "48000/48000 [==============================] - 10s 217us/sample - loss: 0.3208 - acc: 0.9094 - val_loss: 0.1895 - val_acc: 0.9467\n",
      "Epoch 2/20\n",
      "48000/48000 [==============================] - 10s 208us/sample - loss: 0.1552 - acc: 0.9549 - val_loss: 0.1383 - val_acc: 0.9590\n",
      "Epoch 3/20\n",
      "48000/48000 [==============================] - 10s 198us/sample - loss: 0.1141 - acc: 0.9673 - val_loss: 0.1176 - val_acc: 0.9645\n",
      "Epoch 4/20\n",
      "48000/48000 [==============================] - 10s 207us/sample - loss: 0.0901 - acc: 0.9733 - val_loss: 0.1152 - val_acc: 0.9646\n",
      "Epoch 5/20\n",
      "48000/48000 [==============================] - 10s 208us/sample - loss: 0.0734 - acc: 0.9787 - val_loss: 0.1035 - val_acc: 0.9689\n",
      "Epoch 6/20\n",
      "48000/48000 [==============================] - 10s 208us/sample - loss: 0.0608 - acc: 0.9823 - val_loss: 0.0973 - val_acc: 0.9712\n",
      "Epoch 7/20\n",
      "48000/48000 [==============================] - 10s 211us/sample - loss: 0.0515 - acc: 0.9847 - val_loss: 0.0999 - val_acc: 0.9698\n",
      "Epoch 8/20\n",
      "48000/48000 [==============================] - 8s 171us/sample - loss: 0.0435 - acc: 0.9871 - val_loss: 0.0940 - val_acc: 0.9718\n",
      "Epoch 9/20\n",
      "48000/48000 [==============================] - 9s 192us/sample - loss: 0.0369 - acc: 0.9894 - val_loss: 0.1018 - val_acc: 0.9694\n",
      "Epoch 10/20\n",
      "48000/48000 [==============================] - 9s 189us/sample - loss: 0.0320 - acc: 0.9905 - val_loss: 0.0920 - val_acc: 0.9740\n",
      "Epoch 11/20\n",
      "48000/48000 [==============================] - 10s 216us/sample - loss: 0.0271 - acc: 0.9918 - val_loss: 0.0975 - val_acc: 0.9728\n",
      "Epoch 12/20\n",
      "48000/48000 [==============================] - 11s 225us/sample - loss: 0.0249 - acc: 0.9922 - val_loss: 0.1038 - val_acc: 0.9726\n",
      "Epoch 13/20\n",
      "48000/48000 [==============================] - 9s 189us/sample - loss: 0.0203 - acc: 0.9938 - val_loss: 0.1036 - val_acc: 0.9722\n",
      "Epoch 14/20\n",
      "48000/48000 [==============================] - 8s 170us/sample - loss: 0.0174 - acc: 0.9952 - val_loss: 0.1065 - val_acc: 0.9712\n",
      "Epoch 15/20\n",
      "48000/48000 [==============================] - 8s 170us/sample - loss: 0.0158 - acc: 0.9960 - val_loss: 0.1045 - val_acc: 0.9727\n",
      "Epoch 16/20\n",
      "48000/48000 [==============================] - 10s 208us/sample - loss: 0.0137 - acc: 0.9961 - val_loss: 0.1136 - val_acc: 0.9732\n",
      "Epoch 17/20\n",
      "48000/48000 [==============================] - 11s 231us/sample - loss: 0.0137 - acc: 0.9959 - val_loss: 0.1119 - val_acc: 0.9717\n",
      "Epoch 18/20\n",
      "48000/48000 [==============================] - 10s 198us/sample - loss: 0.0101 - acc: 0.9975 - val_loss: 0.1238 - val_acc: 0.9713\n",
      "Epoch 19/20\n",
      "48000/48000 [==============================] - 10s 211us/sample - loss: 0.0112 - acc: 0.9967 - val_loss: 0.1368 - val_acc: 0.9703\n",
      "Epoch 20/20\n",
      "48000/48000 [==============================] - 10s 206us/sample - loss: 0.0084 - acc: 0.9977 - val_loss: 0.1270 - val_acc: 0.9713\n"
     ]
    },
    {
     "data": {
      "text/plain": [
       "<tensorflow.python.keras.callbacks.History at 0xc5e8358>"
      ]
     },
     "execution_count": 4,
     "metadata": {},
     "output_type": "execute_result"
    }
   ],
   "source": [
    "model.fit(\n",
    "    x_train,\n",
    "    y_train,\n",
    "    batch_size=32,\n",
    "    epochs=20,\n",
    "    callbacks=[tsb],\n",
    "    validation_split=0.2\n",
    ")"
   ]
  },
  {
   "cell_type": "code",
   "execution_count": null,
   "metadata": {},
   "outputs": [],
   "source": []
  }
 ],
 "metadata": {
  "kernelspec": {
   "display_name": "Python 3",
   "language": "python",
   "name": "python3"
  },
  "language_info": {
   "codemirror_mode": {
    "name": "ipython",
    "version": 3
   },
   "file_extension": ".py",
   "mimetype": "text/x-python",
   "name": "python",
   "nbconvert_exporter": "python",
   "pygments_lexer": "ipython3",
   "version": "3.7.1"
  }
 },
 "nbformat": 4,
 "nbformat_minor": 2
}
