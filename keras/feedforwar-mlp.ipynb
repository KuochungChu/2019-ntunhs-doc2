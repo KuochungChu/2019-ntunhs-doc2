{
 "cells": [
  {
   "cell_type": "code",
   "execution_count": 1,
   "metadata": {},
   "outputs": [],
   "source": [
    "from tensorflow.python.keras.datasets import mnist\n",
    "import matplotlib.pyplot as plt\n",
    "import numpy as np\n",
    "\n",
    "%matplotlib inline\n",
    "\n",
    "(x_train, y_train), (x_test, y_test) = mnist.load_data()"
   ]
  },
  {
   "cell_type": "code",
   "execution_count": 2,
   "metadata": {},
   "outputs": [
    {
     "data": {
      "image/png": "[encoded data removed]",
      "text/plain": [
       "<Figure size 288x288 with 1 Axes>"
      ]
     },
     "metadata": {
      "needs_background": "light"
     },
     "output_type": "display_data"
    }
   ],
   "source": [
    "#看一下圖片\n",
    "train_img = np.reshape(x_train[22, :], (28, 28))\n",
    "plt.matshow(train_img, cmap = plt.get_cmap('gray'))\n",
    "plt.show()"
   ]
  },
  {
   "cell_type": "code",
   "execution_count": 3,
   "metadata": {},
   "outputs": [
    {
     "name": "stdout",
     "output_type": "stream",
     "text": [
      "x_train.shape: (60000, 28, 28)\n",
      "x_test.shape: (10000, 28, 28)\n",
      "y_train.shape: (60000,)\n",
      "y_test.shape: (10000,)\n"
     ]
    }
   ],
   "source": [
    "print('x_train.shape:', x_train.shape)\n",
    "print('x_test.shape:', x_test.shape)\n",
    "print('y_train.shape:', y_train.shape)\n",
    "print('y_test.shape:', y_test.shape)"
   ]
  },
  {
   "cell_type": "code",
   "execution_count": 4,
   "metadata": {},
   "outputs": [],
   "source": [
    "#將每張圖片拉平(28*28=784)\n",
    "#將每張圖片除上色階255，圖上的像素介於0~1\n",
    "\n",
    "x_train = x_train.reshape(60000, 784)\n",
    "x_train = x_train/255.\n",
    "x_test = x_test.reshape(10000, 784)\n",
    "x_test = x_test/255."
   ]
  },
  {
   "cell_type": "code",
   "execution_count": 5,
   "metadata": {},
   "outputs": [],
   "source": [
    "#將label的資料轉成one-hot encoding \n",
    "\n",
    "from tensorflow.python.keras.utils import to_categorical\n",
    "\n",
    "\n",
    "y_train = to_categorical(y_train, 10)\n",
    "y_test = to_categorical(y_test, 10)"
   ]
  },
  {
   "cell_type": "code",
   "execution_count": 6,
   "metadata": {},
   "outputs": [],
   "source": [
    "#使用Sequential建模\n",
    "#利用add方法增加模型層數\n",
    "\n",
    "from tensorflow.python.keras.models import Sequential\n",
    "\n",
    "model = Sequential()"
   ]
  },
  {
   "cell_type": "code",
   "execution_count": 7,
   "metadata": {},
   "outputs": [
    {
     "name": "stdout",
     "output_type": "stream",
     "text": [
      "WARNING:tensorflow:From C:\\Users\\gpu\\Anaconda3\\envs\\keras\\lib\\site-packages\\tensorflow\\python\\ops\\resource_variable_ops.py:435: colocate_with (from tensorflow.python.framework.ops) is deprecated and will be removed in a future version.\n",
      "Instructions for updating:\n",
      "Colocations handled automatically by placer.\n"
     ]
    }
   ],
   "source": [
    "#增加一層(hidden layer)\n",
    "#輸入點為784個\n",
    "#該層之神經元數量為64\n",
    "#激活函數為relu\n",
    "\n",
    "from tensorflow.python.keras.layers import Dense\n",
    "\n",
    "\n",
    "model.add(\n",
    "    Dense(\n",
    "        units=64, \n",
    "        input_shape=(784,),\n",
    "        activation='relu'\n",
    "    )\n",
    ")"
   ]
  },
  {
   "cell_type": "code",
   "execution_count": 8,
   "metadata": {},
   "outputs": [],
   "source": [
    "#增加一層(output layer)\n",
    "#該層之神經元數量為10，因為手寫結果1,2,3,4,5,6,7,8,9,0 (共10個)\n",
    "#softmax會綜合所有輸入的結果，計算該節點之機率\n",
    "\n",
    "model.add(\n",
    "    Dense(\n",
    "        units=10, \n",
    "        activation='softmax'\n",
    "    )\n",
    ")"
   ]
  },
  {
   "cell_type": "code",
   "execution_count": 9,
   "metadata": {},
   "outputs": [
    {
     "name": "stdout",
     "output_type": "stream",
     "text": [
      "_________________________________________________________________\n",
      "Layer (type)                 Output Shape              Param #   \n",
      "=================================================================\n",
      "dense (Dense)                (None, 64)                50240     \n",
      "_________________________________________________________________\n",
      "dense_1 (Dense)              (None, 10)                650       \n",
      "=================================================================\n",
      "Total params: 50,890\n",
      "Trainable params: 50,890\n",
      "Non-trainable params: 0\n",
      "_________________________________________________________________\n"
     ]
    }
   ],
   "source": [
    "model.summary()"
   ]
  },
  {
   "cell_type": "code",
   "execution_count": 11,
   "metadata": {},
   "outputs": [
    {
     "name": "stdout",
     "output_type": "stream",
     "text": [
      "Train on 48000 samples, validate on 12000 samples\n",
      "Epoch 1/20\n",
      "48000/48000 [==============================] - 10s 207us/sample - loss: 0.0100 - acc: 0.9969 - val_loss: 0.1236 - val_acc: 0.9723\n",
      "Epoch 2/20\n",
      "48000/48000 [==============================] - 8s 174us/sample - loss: 0.0064 - acc: 0.9984 - val_loss: 0.1317 - val_acc: 0.9707\n",
      "Epoch 3/20\n",
      "48000/48000 [==============================] - 8s 163us/sample - loss: 0.0083 - acc: 0.9973 - val_loss: 0.1198 - val_acc: 0.9744\n",
      "Epoch 4/20\n",
      "48000/48000 [==============================] - 8s 170us/sample - loss: 0.0051 - acc: 0.9988 - val_loss: 0.1412 - val_acc: 0.9694\n",
      "Epoch 5/20\n",
      "48000/48000 [==============================] - 8s 164us/sample - loss: 0.0066 - acc: 0.9985 - val_loss: 0.1357 - val_acc: 0.9717\n",
      "Epoch 6/20\n",
      "48000/48000 [==============================] - 8s 168us/sample - loss: 0.0063 - acc: 0.9981 - val_loss: 0.1292 - val_acc: 0.9733\n",
      "Epoch 7/20\n",
      "48000/48000 [==============================] - 8s 161us/sample - loss: 0.0063 - acc: 0.9980 - val_loss: 0.1279 - val_acc: 0.9726\n",
      "Epoch 8/20\n",
      "48000/48000 [==============================] - 8s 169us/sample - loss: 0.0044 - acc: 0.9988 - val_loss: 0.1605 - val_acc: 0.9688\n",
      "Epoch 9/20\n",
      "48000/48000 [==============================] - 8s 163us/sample - loss: 0.0067 - acc: 0.9980 - val_loss: 0.1435 - val_acc: 0.9719\n",
      "Epoch 10/20\n",
      "48000/48000 [==============================] - 9s 192us/sample - loss: 0.0039 - acc: 0.9989 - val_loss: 0.1522 - val_acc: 0.9702\n",
      "Epoch 11/20\n",
      "48000/48000 [==============================] - 11s 228us/sample - loss: 0.0053 - acc: 0.9983 - val_loss: 0.1521 - val_acc: 0.9709\n",
      "Epoch 12/20\n",
      "48000/48000 [==============================] - 10s 218us/sample - loss: 0.0023 - acc: 0.9995 - val_loss: 0.1343 - val_acc: 0.9741\n",
      "Epoch 13/20\n",
      "48000/48000 [==============================] - 11s 238us/sample - loss: 0.0053 - acc: 0.9984 - val_loss: 0.1509 - val_acc: 0.9701\n",
      "Epoch 14/20\n",
      "48000/48000 [==============================] - 9s 188us/sample - loss: 0.0039 - acc: 0.9991 - val_loss: 0.1503 - val_acc: 0.9724\n",
      "Epoch 15/20\n",
      "48000/48000 [==============================] - 8s 175us/sample - loss: 0.0041 - acc: 0.9988 - val_loss: 0.1443 - val_acc: 0.9731\n",
      "Epoch 16/20\n",
      "48000/48000 [==============================] - 8s 172us/sample - loss: 0.0036 - acc: 0.9991 - val_loss: 0.1500 - val_acc: 0.9716\n",
      "Epoch 17/20\n",
      "48000/48000 [==============================] - 8s 172us/sample - loss: 0.0032 - acc: 0.9992 - val_loss: 0.1614 - val_acc: 0.9698\n",
      "Epoch 18/20\n",
      "48000/48000 [==============================] - 10s 216us/sample - loss: 0.0045 - acc: 0.9987 - val_loss: 0.1534 - val_acc: 0.9718\n",
      "Epoch 19/20\n",
      "48000/48000 [==============================] - 10s 218us/sample - loss: 0.0036 - acc: 0.9988 - val_loss: 0.1488 - val_acc: 0.9730\n",
      "Epoch 20/20\n",
      "48000/48000 [==============================] - 11s 224us/sample - loss: 6.0377e-04 - acc: 1.0000 - val_loss: 0.1551 - val_acc: 0.9739\n"
     ]
    }
   ],
   "source": [
    "#透過callbacks方法可以調用執行過程中的結果\n",
    "#該結果可以轉為TensorBoard視覺化圖表\n",
    "\n",
    "#batch_size: 一次抓一些資料，小批次\n",
    "#epochs: 每個小批次要跑幾次，目的是持續找出loss函數的最小值\n",
    "\n",
    "#看到loss、acc的值，這表示使用訓練資料集的結果\n",
    "#看到val_loss、val_acc的值，這表示使用測試資料集的結果\n",
    "\n",
    "#當epoch變多時，若acc變高、loss變低的時候，卻發現 val_acc變低、loss變高，這種情況就類似過擬合現象\n",
    "#過擬合現象可能導致未知資料的預測性能下降\n",
    "\n",
    "from tensorflow.python.keras.callbacks import TensorBoard\n",
    "\n",
    "\n",
    "model.compile(\n",
    "    optimizer='adam',\n",
    "    loss='categorical_crossentropy',\n",
    "    metrics=['accuracy']\n",
    ")\n",
    "tsb = TensorBoard(log_dir='mnist')\n",
    "history_adam = model.fit(\n",
    "    x_train,\n",
    "    y_train,\n",
    "    batch_size=32,\n",
    "    epochs=20,\n",
    "    validation_split=0.2,\n",
    "    callbacks=[tsb]\n",
    ")"
   ]
  },
  {
   "cell_type": "code",
   "execution_count": null,
   "metadata": {},
   "outputs": [],
   "source": []
  }
 ],
 "metadata": {
  "kernelspec": {
   "display_name": "Python 3",
   "language": "python",
   "name": "python3"
  },
  "language_info": {
   "codemirror_mode": {
    "name": "ipython",
    "version": 3
   },
   "file_extension": ".py",
   "mimetype": "text/x-python",
   "name": "python",
   "nbconvert_exporter": "python",
   "pygments_lexer": "ipython3",
   "version": "3.7.1"
  }
 },
 "nbformat": 4,
 "nbformat_minor": 2
}
