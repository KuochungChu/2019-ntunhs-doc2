{
 "cells": [
  {
   "cell_type": "code",
   "execution_count": 1,
   "metadata": {},
   "outputs": [],
   "source": [
    "import tensorflow as tf"
   ]
  },
  {
   "cell_type": "code",
   "execution_count": 2,
   "metadata": {},
   "outputs": [],
   "source": [
    "#宣告變數，並給予name參數，目的是為了 tensor_board 時所用的名稱\n",
    "A=tf.constant(50, name='const_A')\n",
    "B=tf.constant(100, name='const_B')"
   ]
  },
  {
   "cell_type": "code",
   "execution_count": 4,
   "metadata": {},
   "outputs": [
    {
     "name": "stdout",
     "output_type": "stream",
     "text": [
      "200\n"
     ]
    }
   ],
   "source": [
    "with tf.Session() as sess:\n",
    "    #這行指令可以畫出Data flow graph 執行的步驟\n",
    "    with tf.name_scope('Run'):\n",
    "        B=sess.run(A+B)\n",
    "    print(B)\n",
    "    \n",
    "    #畫完之後要儲存起來\n",
    "    train_writer=tf.summary.FileWriter('tb', sess.graph)\n",
    "    train_writer.close()"
   ]
  },
  {
   "cell_type": "markdown",
   "metadata": {},
   "source": [
    "# 執行 tensor_board\n",
    "## 檢查 tb目錄內容\n",
    "## 開啟網頁 http://localhost:6006"
   ]
  },
  {
   "cell_type": "code",
   "execution_count": 5,
   "metadata": {},
   "outputs": [
    {
     "name": "stdout",
     "output_type": "stream",
     "text": [
      "300\n"
     ]
    }
   ],
   "source": [
    "A=tf.constant(50, name='const_A')\n",
    "B=tf.constant(50, name='const_B')\n",
    "\n",
    "with tf.name_scope('Add'):\n",
    "    C=A+B\n",
    "    \n",
    "with tf.Session() as sess:\n",
    "    with tf.name_scope('Run'):\n",
    "        D=sess.run(C*3)\n",
    "    print(D)\n",
    "    \n",
    "    train_writer=tf.summary.FileWriter('/home/jovyan/dataset/tfboard_Test1',sess.graph)\n",
    "    train_writer.close()\n",
    "    "
   ]
  },
  {
   "cell_type": "code",
   "execution_count": null,
   "metadata": {},
   "outputs": [],
   "source": []
  }
 ],
 "metadata": {
  "kernelspec": {
   "display_name": "Python 3",
   "language": "python",
   "name": "python3"
  },
  "language_info": {
   "codemirror_mode": {
    "name": "ipython",
    "version": 3
   },
   "file_extension": ".py",
   "mimetype": "text/x-python",
   "name": "python",
   "nbconvert_exporter": "python",
   "pygments_lexer": "ipython3",
   "version": "3.7.1"
  }
 },
 "nbformat": 4,
 "nbformat_minor": 2
}
