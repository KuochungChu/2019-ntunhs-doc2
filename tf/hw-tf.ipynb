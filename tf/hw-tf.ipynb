{
 "cells": [
  {
   "cell_type": "code",
   "execution_count": 1,
   "metadata": {},
   "outputs": [],
   "source": [
    "import tensorflow as tf"
   ]
  },
  {
   "cell_type": "code",
   "execution_count": 2,
   "metadata": {},
   "outputs": [],
   "source": [
    "#向量\n",
    "a=tf.constant([1,2,3],name='a')\n",
    "b=tf.constant([4,5,6],name='b')\n",
    "c=a+b"
   ]
  },
  {
   "cell_type": "code",
   "execution_count": 5,
   "metadata": {},
   "outputs": [
    {
     "name": "stdout",
     "output_type": "stream",
     "text": [
      "a+b= [5 7 9]\n"
     ]
    }
   ],
   "source": [
    "with tf.Session() as sess:\n",
    "    print('a+b=', sess.run(c))"
   ]
  },
  {
   "cell_type": "code",
   "execution_count": 13,
   "metadata": {},
   "outputs": [
    {
     "name": "stdout",
     "output_type": "stream",
     "text": [
      "shape of a: (2, 2)\n",
      "shape of b: (2, 1)\n",
      "shape of c: (2, 1)\n",
      "a=\n",
      " [[1 2]\n",
      " [3 4]]\n",
      "b=\n",
      " [[1]\n",
      " [3]]\n",
      "c=\n",
      " [[ 7]\n",
      " [15]]\n"
     ]
    }
   ],
   "source": [
    "#陣列\n",
    "a=tf.constant([[1,2],[3,4]],name='a')\n",
    "b=tf.constant([[1],[3]],name='b')\n",
    "c=tf.matmul(a,b)\n",
    "\n",
    "print('shape of a:', a.shape)\n",
    "print('shape of b:', b.shape)\n",
    "print('shape of c:', c.shape)\n",
    "\n",
    "with tf.Session() as sess:\n",
    "    print('a=\\n', sess.run(a))\n",
    "    print('b=\\n', sess.run(b))\n",
    "    print('c=\\n', sess.run(c))"
   ]
  },
  {
   "cell_type": "code",
   "execution_count": 22,
   "metadata": {},
   "outputs": [
    {
     "name": "stdout",
     "output_type": "stream",
     "text": [
      "--代入[[1,2]]--\n",
      "a= [[1 2]]\n",
      "--代入[[1,2],[3,4]]--\n",
      "a= [[1 2]\n",
      " [3 4]]\n",
      "a= [[1 2]\n",
      " [3 4]]\n"
     ]
    }
   ],
   "source": [
    "#placeholder接收陣列張量\n",
    "a=tf.placeholder(shape=(None,2),dtype=tf.int32, name='a')\n",
    "\n",
    "with tf.Session() as sess:\n",
    "    print('--代入[[1,2]]--')\n",
    "    print('a=',sess.run(a,feed_dict={a:[[1,2]]}))\n",
    "    print('--代入[[1,2],[3,4]]--')\n",
    "    print('a=', sess.run(a,feed_dict={a:[[1,2],[3,4]]}))\n",
    "    print('a=', sess.run(a,feed_dict={a:[[1,2],[3,4]]}))"
   ]
  },
  {
   "cell_type": "code",
   "execution_count": 23,
   "metadata": {},
   "outputs": [
    {
     "name": "stdout",
     "output_type": "stream",
     "text": [
      "第一次b= 2\n",
      "第二次b= 3\n",
      "--新session--\n",
      "第一次b= 2\n",
      "第二次b= 3\n",
      "第三次b= 4\n"
     ]
    }
   ],
   "source": [
    "#Session之前，變數都必須初始化\n",
    "a=tf.Variable(1,name='a')\n",
    "b=tf.assign(a,a+1)\n",
    "\n",
    "with tf.Session() as sess:\n",
    "    sess.run(tf.global_variables_initializer())\n",
    "    print('第一次b=',sess.run(b))\n",
    "    print('第二次b=',sess.run(b))\n",
    "\n",
    "#離開Session之後，先前的紀錄就不見了\n",
    "with tf.Session() as sess:\n",
    "    print('--新session--')\n",
    "    sess.run(tf.global_variables_initializer())\n",
    "    print('第一次b=',sess.run(b))\n",
    "    print('第二次b=',sess.run(b))\n",
    "    print('第三次b=',sess.run(b))\n",
    "    "
   ]
  },
  {
   "cell_type": "code",
   "execution_count": 16,
   "metadata": {},
   "outputs": [
    {
     "name": "stdout",
     "output_type": "stream",
     "text": [
      "第一次b= 2\n",
      "第二次b= 3\n"
     ]
    }
   ],
   "source": [
    "#Saver儲存變數\n",
    "\n",
    "saver=tf.train.Saver()\n",
    "\n",
    "with tf.Session() as sess:\n",
    "    sess.run(tf.global_variables_initializer())\n",
    "    print('第一次b=',sess.run(b))\n",
    "    print('第二次b=',sess.run(b))\n",
    "    saver.save(sess,'model/model.ckpt')"
   ]
  },
  {
   "cell_type": "code",
   "execution_count": 17,
   "metadata": {},
   "outputs": [
    {
     "name": "stdout",
     "output_type": "stream",
     "text": [
      "INFO:tensorflow:Restoring parameters from model/model.ckpt\n",
      "4\n",
      "5\n"
     ]
    }
   ],
   "source": [
    "#讀取\n",
    "\n",
    "with tf.Session() as sess:\n",
    "    sess.run(tf.global_variables_initializer())\n",
    "    #讀取剛剛儲存的值，繼續下去\n",
    "    saver.restore(sess, save_path='model/model.ckpt')\n",
    "    print(sess.run(b))\n",
    "    print(sess.run(b))"
   ]
  },
  {
   "cell_type": "code",
   "execution_count": null,
   "metadata": {},
   "outputs": [],
   "source": []
  }
 ],
 "metadata": {
  "kernelspec": {
   "display_name": "Python 3",
   "language": "python",
   "name": "python3"
  },
  "language_info": {
   "codemirror_mode": {
    "name": "ipython",
    "version": 3
   },
   "file_extension": ".py",
   "mimetype": "text/x-python",
   "name": "python",
   "nbconvert_exporter": "python",
   "pygments_lexer": "ipython3",
   "version": "3.7.1"
  }
 },
 "nbformat": 4,
 "nbformat_minor": 2
}
