{
 "cells": [
  {
   "cell_type": "code",
   "execution_count": 1,
   "metadata": {},
   "outputs": [],
   "source": [
    "import tensorflow as tf"
   ]
  },
  {
   "cell_type": "code",
   "execution_count": 2,
   "metadata": {},
   "outputs": [
    {
     "name": "stdout",
     "output_type": "stream",
     "text": [
      "WARNING:tensorflow:From C:\\Users\\gpu\\Anaconda3\\envs\\keras\\lib\\site-packages\\tensorflow\\python\\framework\\op_def_library.py:263: colocate_with (from tensorflow.python.framework.ops) is deprecated and will be removed in a future version.\n",
      "Instructions for updating:\n",
      "Colocations handled automatically by placer.\n",
      "x= 0.98847073\n"
     ]
    }
   ],
   "source": [
    "#例如找出 y=(x-1)^2 最小值之x\n",
    "\n",
    "#定義參數\n",
    "x=tf.Variable(0., name='x')\n",
    "\n",
    "#目標函數\n",
    "func=(x-1)**2\n",
    "\n",
    "#每次移動的幅度(學習率)\n",
    "#思考: 每一次進步的幅度\n",
    "optimizer=tf.train.GradientDescentOptimizer(\n",
    "    learning_rate=0.1\n",
    ")\n",
    "\n",
    "#逐步(慢慢地)往斜率大的方向移動\n",
    "train_step=optimizer.minimize(func)\n",
    "\n",
    "#重複執行\n",
    "#停止條件為執行20次\n",
    "with tf.Session() as sess:\n",
    "    sess.run(tf.global_variables_initializer())\n",
    "    for i in range(20):\n",
    "        sess.run(train_step)\n",
    "        \n",
    "    print('x=',sess.run(x))"
   ]
  },
  {
   "cell_type": "code",
   "execution_count": null,
   "metadata": {},
   "outputs": [],
   "source": []
  }
 ],
 "metadata": {
  "kernelspec": {
   "display_name": "Python 3",
   "language": "python",
   "name": "python3"
  },
  "language_info": {
   "codemirror_mode": {
    "name": "ipython",
    "version": 3
   },
   "file_extension": ".py",
   "mimetype": "text/x-python",
   "name": "python",
   "nbconvert_exporter": "python",
   "pygments_lexer": "ipython3",
   "version": "3.7.1"
  }
 },
 "nbformat": 4,
 "nbformat_minor": 2
}
