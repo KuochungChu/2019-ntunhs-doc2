{
 "cells": [
  {
   "cell_type": "code",
   "execution_count": 3,
   "metadata": {},
   "outputs": [],
   "source": [
    "import tensorflow as tf\n",
    "import numpy as np"
   ]
  },
  {
   "cell_type": "code",
   "execution_count": 53,
   "metadata": {},
   "outputs": [],
   "source": [
    "#透過演算法找出迴歸方程式(y=0.1x+0.3)\n",
    "\n",
    "X_data=np.random.rand(100).astype(np.float32)\n",
    "y_data=X_data*0.1+0.3"
   ]
  },
  {
   "cell_type": "code",
   "execution_count": 54,
   "metadata": {},
   "outputs": [],
   "source": [
    "#係數，斜率介於-1與1之間\n",
    "W=tf.Variable(tf.random_uniform([1],-1.0,1.0))\n",
    "\n",
    "#截距\n",
    "b=tf.Variable(tf.zeros([1]))\n",
    "\n",
    "y=W*X_data+b"
   ]
  },
  {
   "cell_type": "code",
   "execution_count": 55,
   "metadata": {},
   "outputs": [],
   "source": [
    "#最小化lossc函數 (MSE)\n",
    "loss=tf.reduce_mean(tf.square(y-y_data))\n",
    "optimizer=tf.train.GradientDescentOptimizer(learning_rate=0.5)\n",
    "train=optimizer.minimize(loss)"
   ]
  },
  {
   "cell_type": "code",
   "execution_count": 56,
   "metadata": {},
   "outputs": [],
   "source": [
    "#初始化所有變數\n",
    "init=tf.global_variables_initializer()"
   ]
  },
  {
   "cell_type": "code",
   "execution_count": 57,
   "metadata": {},
   "outputs": [],
   "source": [
    "sess=tf.Session()\n",
    "sess.run(init)"
   ]
  },
  {
   "cell_type": "code",
   "execution_count": 59,
   "metadata": {},
   "outputs": [
    {
     "name": "stdout",
     "output_type": "stream",
     "text": [
      "0 [-0.34760883] [0.54469806]\n",
      "20 [-0.00311655] [0.356467]\n",
      "40 [0.07623556] [0.3130135]\n",
      "60 [0.09452321] [0.3029991]\n",
      "80 [0.09873782] [0.3006912]\n",
      "100 [0.09970912] [0.3001593]\n",
      "120 [0.09993296] [0.30003673]\n",
      "140 [0.09998453] [0.30000848]\n",
      "160 [0.09999645] [0.30000195]\n",
      "180 [0.09999919] [0.30000046]\n",
      "200 [0.09999981] [0.3000001]\n"
     ]
    }
   ],
   "source": [
    "#嘗試調整次數，例如: 201 => 21 \n",
    "for step in range(201):\n",
    "    sess.run(train)\n",
    "    if step%20==0:\n",
    "        print(step,sess.run(W), sess.run(b))"
   ]
  },
  {
   "cell_type": "code",
   "execution_count": null,
   "metadata": {},
   "outputs": [],
   "source": []
  }
 ],
 "metadata": {
  "kernelspec": {
   "display_name": "Python 3",
   "language": "python",
   "name": "python3"
  },
  "language_info": {
   "codemirror_mode": {
    "name": "ipython",
    "version": 3
   },
   "file_extension": ".py",
   "mimetype": "text/x-python",
   "name": "python",
   "nbconvert_exporter": "python",
   "pygments_lexer": "ipython3",
   "version": "3.7.1"
  }
 },
 "nbformat": 4,
 "nbformat_minor": 2
}
